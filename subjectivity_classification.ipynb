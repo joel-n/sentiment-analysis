{
 "cells": [
  {
   "cell_type": "markdown",
   "id": "cac04ec6",
   "metadata": {},
   "source": [
    "# Sentiment classification of movie reviews with Naïve Bayes classifier using subjectivity filtering"
   ]
  },
  {
   "cell_type": "code",
   "execution_count": 1,
   "id": "12208a8f",
   "metadata": {},
   "outputs": [],
   "source": [
    "import os\n",
    "import pandas as pd\n",
    "import numpy as np\n",
    "import matplotlib.pyplot as plt\n",
    "from sklearn.feature_extraction.text import CountVectorizer, TfidfVectorizer\n",
    "from sklearn.naive_bayes import MultinomialNB\n",
    "from sklearn.metrics import classification_report, confusion_matrix, ConfusionMatrixDisplay\n",
    "from sklearn.model_selection import train_test_split"
   ]
  },
  {
   "cell_type": "code",
   "execution_count": 2,
   "id": "02fe4bda",
   "metadata": {},
   "outputs": [],
   "source": [
    "# spacy 2.2.4 should be part of Colab, but the 'en_core_web_lg' module won't be found\n",
    "# for this version (after installation with !python -m spacy download en_core_web_lg).\n",
    "\n",
    "import spacy\n",
    "# nlp = spacy.load(\"en_core_web_sm\", exclude=[\"ner\"]) # If running on Colab\n",
    "nlp = spacy.load(\"en_core_web_lg\", exclude=[\"ner\"])"
   ]
  },
  {
   "cell_type": "code",
   "execution_count": 3,
   "id": "122b4989",
   "metadata": {},
   "outputs": [
    {
     "name": "stdout",
     "output_type": "stream",
     "text": [
      "Version: 3.2.0\n"
     ]
    }
   ],
   "source": [
    "!pip show spacy | grep Version"
   ]
  },
  {
   "cell_type": "markdown",
   "id": "d935a647",
   "metadata": {},
   "source": [
    "## Preprocessing functions"
   ]
  },
  {
   "cell_type": "code",
   "execution_count": 6,
   "id": "0e136ae0",
   "metadata": {},
   "outputs": [],
   "source": [
    "def doc_preprocessor_sw(text):\n",
    "    \"\"\"\n",
    "    Preprocessor that returns a list of lemmas of a given text,\n",
    "    with stop words filtered out.\n",
    "    \n",
    "    Args:\n",
    "        - text: string that contains the text to be preprocessed\n",
    "        \n",
    "    Returns:\n",
    "        - tokens: a list of strings (lemmas)\n",
    "    \"\"\"\n",
    "    \n",
    "    doc = nlp(text)\n",
    "    tokens = [token.lemma_ for token in doc if not token.is_stop]\n",
    "    return tokens\n",
    "\n",
    "def doc_preprocessor(text):\n",
    "    \"\"\"\n",
    "    Preprocessor that returns a list of lemmas of a given text.\n",
    "    \n",
    "    Args:\n",
    "        - text: string that contains the text to be preprocessed\n",
    "        \n",
    "    Returns:\n",
    "        - tokens: a list of strings (lemmas)\n",
    "    \"\"\"\n",
    "    \n",
    "    doc = nlp(text)\n",
    "    tokens = [token.lemma_ for token in doc]\n",
    "    #tokens = [token.text for token in doc]\n",
    "    return tokens"
   ]
  },
  {
   "cell_type": "markdown",
   "id": "75a2aeac",
   "metadata": {},
   "source": [
    "## Subjectivity filtering with NB\n",
    "Use [subjective/objective movie review data](https://www.cs.cornell.edu/people/pabo/movie-review-data/) to train a classifier to filter out objective sentences as a preprocessing step to sentiment analysis."
   ]
  },
  {
   "cell_type": "markdown",
   "id": "14b04b10",
   "metadata": {},
   "source": [
    "### Load the subjectivity dataset\n",
    "The data of reviews are assumed to be subjective, and the plot descriptions are assumed to be objective."
   ]
  },
  {
   "cell_type": "code",
   "execution_count": 4,
   "id": "dcf36185",
   "metadata": {},
   "outputs": [
    {
     "data": {
      "text/html": [
       "<div>\n",
       "<style scoped>\n",
       "    .dataframe tbody tr th:only-of-type {\n",
       "        vertical-align: middle;\n",
       "    }\n",
       "\n",
       "    .dataframe tbody tr th {\n",
       "        vertical-align: top;\n",
       "    }\n",
       "\n",
       "    .dataframe thead th {\n",
       "        text-align: right;\n",
       "    }\n",
       "</style>\n",
       "<table border=\"1\" class=\"dataframe\">\n",
       "  <thead>\n",
       "    <tr style=\"text-align: right;\">\n",
       "      <th></th>\n",
       "      <th>sentence</th>\n",
       "      <th>label</th>\n",
       "    </tr>\n",
       "  </thead>\n",
       "  <tbody>\n",
       "    <tr>\n",
       "      <th>0</th>\n",
       "      <td>the movie begins in the past where a young boy...</td>\n",
       "      <td>0</td>\n",
       "    </tr>\n",
       "    <tr>\n",
       "      <th>1</th>\n",
       "      <td>emerging from the human psyche and showing cha...</td>\n",
       "      <td>0</td>\n",
       "    </tr>\n",
       "    <tr>\n",
       "      <th>2</th>\n",
       "      <td>spurning her mother's insistence that she get ...</td>\n",
       "      <td>0</td>\n",
       "    </tr>\n",
       "    <tr>\n",
       "      <th>3</th>\n",
       "      <td>amitabh can't believe the board of directors a...</td>\n",
       "      <td>0</td>\n",
       "    </tr>\n",
       "    <tr>\n",
       "      <th>4</th>\n",
       "      <td>she , among others excentricities , talks to a...</td>\n",
       "      <td>0</td>\n",
       "    </tr>\n",
       "  </tbody>\n",
       "</table>\n",
       "</div>"
      ],
      "text/plain": [
       "                                            sentence  label\n",
       "0  the movie begins in the past where a young boy...      0\n",
       "1  emerging from the human psyche and showing cha...      0\n",
       "2  spurning her mother's insistence that she get ...      0\n",
       "3  amitabh can't believe the board of directors a...      0\n",
       "4  she , among others excentricities , talks to a...      0"
      ]
     },
     "execution_count": 4,
     "metadata": {},
     "output_type": "execute_result"
    }
   ],
   "source": [
    "objective_df = pd.read_csv('subjectivity_data/plot.tok.gt9.5000', encoding='ISO-8859-1', # alternatively, 'latin-1'\n",
    "                            sep='\\n', header=None, names=['sentence'])\n",
    "subjective_df  = pd.read_csv('subjectivity_data/quote.tok.gt9.5000', encoding='ISO-8859-1', # alternatively, 'latin-1'\n",
    "                            sep='\\n', header=None, names=['sentence'])\n",
    "subjective_df['label'] = 1\n",
    "objective_df['label'] = 0\n",
    "\n",
    "data = pd.concat([objective_df, subjective_df], ignore_index=False)\n",
    "data.head()"
   ]
  },
  {
   "cell_type": "markdown",
   "id": "ed78c2de",
   "metadata": {},
   "source": [
    "Split the data into training (70%) and test (30%) sets."
   ]
  },
  {
   "cell_type": "code",
   "execution_count": 5,
   "id": "d354437e",
   "metadata": {},
   "outputs": [
    {
     "data": {
      "text/plain": [
       "1191    never giving up the fight to win the war , mcn...\n",
       "4458    the plan goes by smoothly , but troubles comes...\n",
       "1131    ultimately , anime moves far beyond the realm ...\n",
       "4562     in the end , white oleander isn't an adaptati...\n",
       "1579    this story of a determined woman's courage to ...\n",
       "Name: sentence, dtype: object"
      ]
     },
     "execution_count": 5,
     "metadata": {},
     "output_type": "execute_result"
    }
   ],
   "source": [
    "train_sentences, test_sentences, train_labels, test_labels = train_test_split(data.sentence, data.label,\n",
    "                                                                              test_size=0.3, random_state=100)\n",
    "\n",
    "train_sentences.head()"
   ]
  },
  {
   "cell_type": "code",
   "execution_count": 7,
   "id": "cdbc4a84",
   "metadata": {},
   "outputs": [
    {
     "name": "stdout",
     "output_type": "stream",
     "text": [
      "this story of a determined woman 's courage to find her husband in a war zone offer win performance and some effect moment .\n",
      "this story of a determined woman's courage to find her husband in a war zone offers winning performances and some effecting moments . \n"
     ]
    }
   ],
   "source": [
    "print(' '.join(doc_preprocessor(train_sentences.iloc[4])))\n",
    "print(train_sentences.iloc[4])"
   ]
  },
  {
   "cell_type": "markdown",
   "id": "7f5e1c74",
   "metadata": {},
   "source": [
    "Use count/binary vectorizer. Don't use stop words here either."
   ]
  },
  {
   "cell_type": "code",
   "execution_count": null,
   "id": "5b95fe36",
   "metadata": {},
   "outputs": [],
   "source": [
    "subj_n_grams = (1, 1) # unigram\n",
    "subj_binary_counts_ = False\n",
    "subj_stop_words_ = None\n",
    "\n",
    "# SET doc_preprocessor AS THE tokenizer ATTRIBUTE IN THE COUNT VECTORIZER TO USE IT\n",
    "bin_vectorizer = CountVectorizer(strip_accents=None, lowercase=True,\n",
    "                                 preprocessor=None, tokenizer=doc_preprocessor,\n",
    "                                 stop_words=subj_stop_words_, ngram_range=subj_n_grams,\n",
    "                                 binary=subj_binary_counts_)\n",
    "\n",
    "bin_vectorizer.fit(train_sentences)\n",
    "\n",
    "train_vec = bin_vectorizer.transform(train_sentences)\n",
    "test_vec  = bin_vectorizer.transform(test_sentences)"
   ]
  },
  {
   "cell_type": "markdown",
   "id": "2aef88e4",
   "metadata": {},
   "source": [
    "### Train a naïve Bayes classifier (subjectivity)\n",
    "Predict on the test set"
   ]
  },
  {
   "cell_type": "code",
   "execution_count": 9,
   "id": "9b9a9ea6",
   "metadata": {},
   "outputs": [
    {
     "name": "stdout",
     "output_type": "stream",
     "text": [
      "true: 1, predicted: 0\n",
      "' \" the emperor's new clothes \" begins with a simple plan . . . . well , at least that's the plan . '\n",
      "\n",
      "true: 1, predicted: 1\n",
      "'it throws quirky characters , odd situations , and off-kilter dialogue at us , all as if to say , \" look at this ! this is an interesting movie ! \" but the film itself is ultimately quite unengaging . '\n",
      "\n",
      "true: 0, predicted: 0\n",
      "'three fraternal bank robbers languishing in jail , discover a profitable ( if not dodgy ) way to spend their time . '\n",
      "\n",
      "true: 0, predicted: 0\n",
      "'it seems like a perfect opportunity for kilo to get back to his family , but this job leads to a world of trouble for kilo after his release . '\n",
      "\n"
     ]
    }
   ],
   "source": [
    "m_naive_bayes = MultinomialNB()\n",
    "m_naive_bayes.fit(train_vec, train_labels)\n",
    "te_pred = m_naive_bayes.predict(test_vec)\n",
    "\n",
    "for i in range(4):\n",
    "    print(f'true: {test_labels.values[i]}, predicted: {te_pred[i]}\\n\\'{test_sentences.values[i]}\\'\\n')"
   ]
  },
  {
   "cell_type": "code",
   "execution_count": 10,
   "id": "b7052bf8",
   "metadata": {},
   "outputs": [
    {
     "name": "stdout",
     "output_type": "stream",
     "text": [
      "              precision    recall  f1-score   support\n",
      "\n",
      "   objective       0.94      0.89      0.92      1495\n",
      "  subjective       0.90      0.94      0.92      1505\n",
      "\n",
      "    accuracy                           0.92      3000\n",
      "   macro avg       0.92      0.92      0.92      3000\n",
      "weighted avg       0.92      0.92      0.92      3000\n",
      "\n"
     ]
    }
   ],
   "source": [
    "con_mat = classification_report(test_labels, te_pred, target_names=['objective', 'subjective'])\n",
    "print(con_mat)"
   ]
  },
  {
   "cell_type": "markdown",
   "id": "fa43c762",
   "metadata": {},
   "source": [
    "### Train the subjectivity classifier on all data"
   ]
  },
  {
   "cell_type": "code",
   "execution_count": null,
   "id": "7b7cb041",
   "metadata": {},
   "outputs": [],
   "source": [
    "subj_lab = data.label\n",
    "subj_vec = bin_vectorizer.transform(data.sentence)\n",
    "subj_classifier = MultinomialNB()\n",
    "subj_classifier.fit(subj_vec, subj_lab)\n",
    "subj_pred = m_naive_bayes.predict(subj_vec)"
   ]
  },
  {
   "cell_type": "code",
   "execution_count": 12,
   "id": "97a71ff3",
   "metadata": {},
   "outputs": [
    {
     "name": "stdout",
     "output_type": "stream",
     "text": [
      "              precision    recall  f1-score   support\n",
      "\n",
      "   objective       0.97      0.93      0.95      5000\n",
      "  subjective       0.93      0.97      0.95      5000\n",
      "\n",
      "    accuracy                           0.95     10000\n",
      "   macro avg       0.95      0.95      0.95     10000\n",
      "weighted avg       0.95      0.95      0.95     10000\n",
      "\n"
     ]
    }
   ],
   "source": [
    "con_mat_sb = classification_report(subj_lab, subj_pred, target_names=['objective', 'subjective'])\n",
    "print(con_mat_sb)"
   ]
  },
  {
   "cell_type": "markdown",
   "id": "f1f8bff3",
   "metadata": {},
   "source": [
    "## Graph-based subjectivity classification\n",
    "Method adopted from [A Sentimental Education: Sentiment Analysis Using Subjectivity Summarization Based on Minimum Cuts by Pang and Lee](https://arxiv.org/abs/cs/0409058). Use proximity information to decide if a sentence should be classified as subjective or objective. Use the naïve Bayes classifier probabilities as weights in a graph and find the minimum cut to separate objective from subjective sentences.\n",
    "\n",
    "The weights from the source to a sentence is the probability of the sentence being objective (1), and from a sentence to the sink the weight is the probability of the sentence being subjective (0).\n",
    "\n",
    "Use the package `networkx` for running the min-cut algorithm [`networkx.algorithms.flow.minimum_cut`](https://networkx.org/documentation/stable/reference/algorithms/generated/networkx.algorithms.flow.minimum_cut.html)."
   ]
  },
  {
   "cell_type": "code",
   "execution_count": 13,
   "id": "cac30d71",
   "metadata": {},
   "outputs": [],
   "source": [
    "import networkx as nx\n",
    "from networkx.algorithms.flow import minimum_cut"
   ]
  },
  {
   "cell_type": "markdown",
   "id": "8a778363",
   "metadata": {},
   "source": [
    "Use an associative weight between sentence nodes $assoc(s_i,s_j) = c\\cdot f(j-i) $ for $j-1 \\leq T$ and $0$ otherwise, where $f(d)$ is decreasing. Pang and Lee used $c\\in[0,1]$ with steps of $0.1$, $T\\in\\{1,2,3\\}$, and $f(d)\\in\\{1, e^{1-d}, 1/d^2\\}$, giving $11\\cdot 3\\cdot 3=99$ parameter combinations."
   ]
  },
  {
   "cell_type": "code",
   "execution_count": 14,
   "id": "a5512af2",
   "metadata": {},
   "outputs": [],
   "source": [
    "def get_assoc_matrix(n_sentences, threshold=3, c=0.5):\n",
    "    \"\"\"\n",
    "    Returns the weight matrix for the nodes\n",
    "    \n",
    "    Args:\n",
    "        - n_sentences: the number of sentences in the review\n",
    "        - threshold: the number of sentences that count as being close\n",
    "        - c: weight (for each class) of the associative function\n",
    "    \"\"\"\n",
    "    A = np.zeros((n_sentences,n_sentences))\n",
    "    \n",
    "    for i in range(n_sentences):\n",
    "        for j in range(i+1, n_sentences):\n",
    "            if j-i <= threshold:\n",
    "                d = j-i\n",
    "                A[i,j] = c*np.exp(1-d)\n",
    "                A[j,i] = c*np.exp(1-d)\n",
    "    return A\n",
    "\n",
    "\n",
    "def get_graph_matrix(n_sentences, obj_prob, subj_prob, threshold=3, c=0.5):\n",
    "    \"\"\"\n",
    "    Produces the (undirected) adjacency matrix for the proposed\n",
    "    minimum cut problem.\n",
    "    \n",
    "    Args:\n",
    "        - n_sentences: number of sentences in the review\n",
    "        - obj_prob: probabilities that the sentence is classified as objective\n",
    "        - subj_prob: probabilities that the sentence is classified as subjective\n",
    "        \n",
    "        Arguments used in the association matrix computation:\n",
    "        - threshold: the number of sentences that count as being close\n",
    "        - c: weight (for each class) of the associative function\n",
    "        \n",
    "    Returns:\n",
    "        - M: numpy array that represents the graph\n",
    "    \"\"\"\n",
    "    \n",
    "    A = get_assoc_matrix(n_sentences, threshold, c)\n",
    "    \n",
    "    M = np.zeros((n_sentences+2, n_sentences+2))\n",
    "    M[1:n_sentences+1, 0] = obj_prob[0:n_sentences]\n",
    "    M[0, 1:n_sentences+1] = obj_prob[0:n_sentences]\n",
    "\n",
    "    M[n_sentences+1, 1:n_sentences+1] = subj_prob[0:n_sentences]\n",
    "    M[1:n_sentences+1, n_sentences+1] = subj_prob[0:n_sentences]\n",
    "\n",
    "    M[1:n_sentences+1, 1:n_sentences+1] = A\n",
    "    \n",
    "    return M"
   ]
  },
  {
   "cell_type": "code",
   "execution_count": 15,
   "id": "ccc4c7dd",
   "metadata": {},
   "outputs": [
    {
     "name": "stdout",
     "output_type": "stream",
     "text": [
      "[[9.90467589e-01 9.53241109e-03]\n",
      " [1.01389576e-10 1.00000000e+00]\n",
      " [9.99999925e-01 7.49300802e-08]\n",
      " ...\n",
      " [9.99999994e-01 5.64076065e-09]\n",
      " [9.98116132e-01 1.88386790e-03]\n",
      " [9.99508058e-01 4.91942391e-04]]\n",
      "[0 1 0 ... 0 0 0]\n"
     ]
    }
   ],
   "source": [
    "prob = m_naive_bayes.predict_proba(test_vec)\n",
    "to_source = prob[:,0] # objective probability\n",
    "to_sink = prob[:,1]   # subjective probability\n",
    "\n",
    "print(prob)\n",
    "print(te_pred)"
   ]
  },
  {
   "cell_type": "markdown",
   "id": "1617d519",
   "metadata": {},
   "source": [
    "__N.B. In the example below we use sentences that are _not_ close to each other, and the classification will _not_ be improved here as a result.__"
   ]
  },
  {
   "cell_type": "code",
   "execution_count": 16,
   "id": "57796ed5",
   "metadata": {},
   "outputs": [
    {
     "name": "stdout",
     "output_type": "stream",
     "text": [
      "[[0.    0.99  0.    1.    1.    1.    1.    1.    1.    0.   ]\n",
      " [0.99  0.    0.5   0.184 0.068 0.    0.    0.    0.    0.01 ]\n",
      " [0.    0.5   0.    0.5   0.184 0.068 0.    0.    0.    1.   ]\n",
      " [1.    0.184 0.5   0.    0.5   0.184 0.068 0.    0.    0.   ]\n",
      " [1.    0.068 0.184 0.5   0.    0.5   0.184 0.068 0.    0.   ]\n",
      " [1.    0.    0.068 0.184 0.5   0.    0.5   0.184 0.068 0.   ]\n",
      " [1.    0.    0.    0.068 0.184 0.5   0.    0.5   0.184 0.   ]\n",
      " [1.    0.    0.    0.    0.068 0.184 0.5   0.    0.5   0.   ]\n",
      " [1.    0.    0.    0.    0.    0.068 0.184 0.5   0.    0.   ]\n",
      " [0.    0.01  1.    0.    0.    0.    0.    0.    0.    0.   ]]\n"
     ]
    }
   ],
   "source": [
    "n_sentences = 8\n",
    "M = get_graph_matrix(n_sentences, to_source, to_sink)\n",
    "print(np.around(M,3))"
   ]
  },
  {
   "cell_type": "code",
   "execution_count": 17,
   "id": "06efab9f",
   "metadata": {
    "scrolled": true
   },
   "outputs": [
    {
     "data": {
      "image/png": "[encoded data removed]",
      "text/plain": [
       "<Figure size 432x288 with 1 Axes>"
      ]
     },
     "metadata": {},
     "output_type": "display_data"
    }
   ],
   "source": [
    "G = nx.convert_matrix.from_numpy_matrix(M)\n",
    "nx.draw(G, with_labels=True, font_weight='bold')"
   ]
  },
  {
   "cell_type": "code",
   "execution_count": 18,
   "id": "21d7d55f",
   "metadata": {},
   "outputs": [],
   "source": [
    "cut_value, partition = minimum_cut(flowG = G, _s=0, _t=n_sentences+1, capacity='weight')"
   ]
  },
  {
   "cell_type": "code",
   "execution_count": 19,
   "id": "8e735847",
   "metadata": {},
   "outputs": [],
   "source": [
    "subjective_sent = np.zeros(n_sentences)\n",
    "for n in partition[1]:\n",
    "    if not n==n_sentences+1:\n",
    "        subjective_sent[n] = 1"
   ]
  },
  {
   "cell_type": "code",
   "execution_count": 20,
   "id": "3cb112b4",
   "metadata": {},
   "outputs": [
    {
     "name": "stdout",
     "output_type": "stream",
     "text": [
      "({0, 1, 2, 3, 4, 5, 6, 7, 8}, {9})\n",
      "true: 1, nb: 0, min-cut: 0\n",
      " \" the emperor's new clothes \" begins with a simple plan . . . . well , at least that's the plan . \n",
      "true: 1, nb: 1, min-cut: 0\n",
      "it throws quirky characters , odd situations , and off-kilter dialogue at us , all as if to say , \" look at this ! this is an interesting movie ! \" but the film itself is ultimately quite unengaging . \n",
      "true: 0, nb: 0, min-cut: 0\n",
      "three fraternal bank robbers languishing in jail , discover a profitable ( if not dodgy ) way to spend their time . \n",
      "true: 0, nb: 0, min-cut: 0\n",
      "it seems like a perfect opportunity for kilo to get back to his family , but this job leads to a world of trouble for kilo after his release . \n",
      "true: 0, nb: 0, min-cut: 0\n",
      "the don's legal will , which also includes diamonds worth hundred crores kept in a foreign bank , has to be equally divided between these three and to claim the diamonds from the bank all three all three have to be present at the bank and personally sign the papers . \n",
      "true: 0, nb: 0, min-cut: 0\n",
      "along the way , he meets a long line of interesting and colorful characters , while back at home , ada is learning the ropes of managing her deceased father's farm with ruby ( renee zellweger ) , a scrappy drifter who assists and teaches ada along the way . \n",
      "true: 0, nb: 0, min-cut: 0\n",
      "with only a high school diploma , thomas became a leading cardiac pioneer and educator of two generations of the united states' premiere heart surgeons . \n",
      "true: 0, nb: 0, min-cut: 0\n",
      "while accompanying an us senator on his mission in cuba , he makes a botch of so many things , that a minor blunder by the senator turns into a serious incident , which intensifies into a second cuban crisis - thanks to further entanglements by the media , police , and diplomats who represent the arch-enemies usa and cuba . \n"
     ]
    }
   ],
   "source": [
    "print(partition)\n",
    "for i in range(8):\n",
    "    print(f'true: {test_labels.values[i]}, nb: {te_pred[i]}, min-cut: {int(subjective_sent[i])}\\n{test_sentences.values[i]}')"
   ]
  },
  {
   "cell_type": "markdown",
   "id": "8a1551ac",
   "metadata": {},
   "source": [
    "Sanity check: We disregard the sink and source nodes 0 and 9. The set of nodes that are grouped with node 0 are objective, and the set of nodes that are grouped with node 1 are subjective. In this case the split is not correct for the NB classifier, and the min-cut classifier in addition (wrongly) decides that the second sentence is objective. If the emphasis on proximity is increased (e.g. increase $c$ or $T$), the partition might change. *The min-cut classifier cannot be evaluated on the subjectivity dataset since there are no reviews of more than one sentence. However, it can be evaluated as a preprocessing tool on the downstream task of sentiment classification.*"
   ]
  },
  {
   "cell_type": "markdown",
   "id": "ae4fe2e3",
   "metadata": {},
   "source": [
    "## Classification of reviews\n",
    "\n",
    "### Read reviews\n",
    "After using the loading functions below, the data can be persisted for quicker loading.\n",
    "\n",
    "### Dataset 1: IMDb dataset\n",
    "Below is a function to read and put together the [IMDb dataset](https://ai.stanford.edu/~amaas/data/sentiment/) (collected by Maas et al.) into a dataframe. The dataset has to be downloaded to the repo (follow the link), or one can use the function in the [Colab notebook](https://github.com/joel-n/sentiment-analysis/blob/main/BERT_sentiment_prediction.ipynb)."
   ]
  },
  {
   "cell_type": "code",
   "execution_count": 21,
   "id": "e7d9c73f",
   "metadata": {},
   "outputs": [],
   "source": [
    "def read_folder(folder_path):\n",
    "    file_paths = os.listdir(folder_path)\n",
    "    review = []\n",
    "    for filename in file_paths:\n",
    "        with open(f'{folder_path}/{filename}', mode='r', encoding=\"utf8\") as file:\n",
    "            review.append(file.readline())\n",
    "    return review, file_paths\n",
    "\n",
    "\n",
    "def load_imdb_data():\n",
    "    tr_pos_review, _ = read_folder('aclImdb/train/pos')\n",
    "    tr_neg_review, _ = read_folder('aclImdb/train/neg')\n",
    "    te_pos_review, _ = read_folder('aclImdb/test/pos')\n",
    "    te_neg_review, _ = read_folder('aclImdb/test/neg')\n",
    "    \n",
    "    tr_reviews_pos = pd.DataFrame(tr_pos_review, columns=['review'])\n",
    "    tr_reviews_pos['polarity'] = 1\n",
    "    tr_reviews_neg = pd.DataFrame(tr_neg_review, columns=['review'])\n",
    "    tr_reviews_neg['polarity'] = 0\n",
    "    \n",
    "    tr_reviews = tr_reviews_pos.append(tr_reviews_neg, ignore_index=True)\n",
    "    \n",
    "    te_reviews_pos = pd.DataFrame(te_pos_review, columns=['review'])\n",
    "    te_reviews_pos['polarity'] = 1\n",
    "    te_reviews_neg = pd.DataFrame(te_neg_review, columns=['review'])\n",
    "    te_reviews_neg['polarity'] = 0\n",
    "    \n",
    "    te_reviews = te_reviews_pos.append(te_reviews_neg, ignore_index=True)\n",
    "    \n",
    "    return tr_reviews, te_reviews"
   ]
  },
  {
   "cell_type": "markdown",
   "id": "27c29407",
   "metadata": {},
   "source": [
    "### Dataset 2: Stanford Sentiment Treebank (Rotten Tomatoes) dataset\n",
    "This [dataset](https://nlp.stanford.edu/sentiment/) was collected from Rotten Tomatoes by Pang and Lee, and was annotated and by Socher et al. The data is included in the repo. The load function can be used once, once the data is saved to .csv-format loading is faster."
   ]
  },
  {
   "cell_type": "code",
   "execution_count": 21,
   "id": "bdac5061",
   "metadata": {},
   "outputs": [],
   "source": [
    "def load_rt_data(binary_classes=False):\n",
    "    sentence_df   = pd.read_csv('stanfordSentimentTreebank/datasetSentences_mod.txt', sep='\\t', index_col=0, encoding='utf-8')\n",
    "    label_df      = pd.read_csv('stanfordSentimentTreebank/datasetSplit.txt', sep=',')\n",
    "    sentiment_df  = pd.read_csv('stanfordSentimentTreebank/sentiment_labels.txt', sep='|')\n",
    "    dictionary_df = pd.read_csv('stanfordSentimentTreebank/dictionary.txt', sep='|', header=None)\n",
    "    \n",
    "    sentence_df = sentence_df.rename(columns={\"sentence\": \"review\"})\n",
    "    \n",
    "    dictionary_df.columns = ['span', 'phrase_id']\n",
    "    \n",
    "    missing = []\n",
    "    found   = []\n",
    "    sent    = []\n",
    "    for s in sentence_df.itertuples():\n",
    "        row = dictionary_df[dictionary_df.span == s.review]\n",
    "        if row.empty:\n",
    "            missing.append(s.review)\n",
    "        else:\n",
    "            ph_id = row.phrase_id.values[0]\n",
    "            found.append(s.Index) # not sentence_index\n",
    "            sent.append(sentiment_df['sentiment values'].values[ph_id])\n",
    "            \n",
    "    assert len(missing) == 0, \"There are sentences missing in the dictionary\"\n",
    "\n",
    "    sentence_df['split'] = label_df['splitset_label'].values\n",
    "\n",
    "    found_df = sentence_df.loc[found,:]\n",
    "    found_df['sentiment'] = sent\n",
    "\n",
    "    if binary_classes:\n",
    "        pos_ix = found_df[found_df.sentiment > 0.6].index\n",
    "        neg_ix = found_df[found_df.sentiment <= 0.4].index\n",
    "        found_df.loc[pos_ix, 'polarity'] = 1\n",
    "        found_df.loc[neg_ix, 'polarity'] = 0\n",
    "        found_df.dropna(axis=0, how='any', inplace=True) # drop any rows with NaN polarity (neutral)\n",
    "        \n",
    "    else:\n",
    "        very_pos_ix = found_df[found_df.sentiment > 0.8].index\n",
    "        pos_ix      = found_df[(found_df.sentiment <= 0.8) & (found_df.sentiment > 0.6)].index\n",
    "        neutral_ix  = found_df[(found_df.sentiment <= 0.6) & (found_df.sentiment > 0.4)].index\n",
    "        neg_ix      = found_df[(found_df.sentiment <= 0.4) & (found_df.sentiment > 0.2)].index\n",
    "        very_neg_ix = found_df[found_df.sentiment <= 0.2].index\n",
    "        \n",
    "        found_df.loc[very_pos_ix, 'polarity'] = 4\n",
    "        found_df.loc[pos_ix, 'polarity']      = 3\n",
    "        found_df.loc[neutral_ix, 'polarity']  = 2\n",
    "        found_df.loc[neg_ix, 'polarity']      = 1\n",
    "        found_df.loc[very_neg_ix, 'polarity'] = 0\n",
    "\n",
    "    train_df = found_df[found_df.split == 1]\n",
    "    test_df  = found_df[found_df.split == 2]\n",
    "    dev_df   = found_df[found_df.split == 3]\n",
    "    \n",
    "    return train_df, test_df, dev_df"
   ]
  },
  {
   "cell_type": "markdown",
   "id": "0d2162c5",
   "metadata": {},
   "source": [
    "### Choose dataset"
   ]
  },
  {
   "cell_type": "code",
   "execution_count": 22,
   "id": "e8aaf4e0",
   "metadata": {},
   "outputs": [
    {
     "name": "stdout",
     "output_type": "stream",
     "text": [
      "Loading rt data. (Subsample used: False)\n"
     ]
    }
   ],
   "source": [
    "dataset_name = 'rt'\n",
    "binary_classes = False\n",
    "use_partial_data = False\n",
    "subsample_size = 1000\n",
    "\n",
    "use_loaded_copy = False\n",
    "persist = False\n",
    "\n",
    "print(f'Loading {dataset_name} data. (Subsample used: {use_partial_data})')\n",
    "\n",
    "if dataset_name == 'rt':\n",
    "    if use_loaded_copy:\n",
    "        tr_reviews  = pd.read_csv(f'rt_train_dataset_compiled_binary_{binary_classes}.csv', encoding='utf-8')\n",
    "        te_reviews  = pd.read_csv(f'rt_test_dataset_compiled_binary_{binary_classes}.csv', encoding='utf-8')\n",
    "        dev_reviews = pd.read_csv(f'rt_dev_dataset_compiled_binary_{binary_classes}.csv', encoding='utf-8')\n",
    "        persist = False\n",
    "    else:\n",
    "        tr_reviews, te_reviews, dev_reviews = load_rt_data(binary_classes)\n",
    "\n",
    "elif dataset_name == 'imdb':\n",
    "    binary_classes = True\n",
    "    if use_loaded_copy:\n",
    "        tr_reviews  = pd.read_csv(f'imdb_train_dataset_compiled_binary_{binary_classes}.csv', encoding='utf-8')\n",
    "        te_reviews  = pd.read_csv(f'imdb_test_dataset_compiled_binary_{binary_classes}.csv', encoding='utf-8')\n",
    "        persist = False\n",
    "    else:\n",
    "        tr_reviews, te_reviews = load_imdb_data()\n",
    "    \n",
    "if persist:\n",
    "    tr_reviews.to_csv(f'{dataset_name}_train_dataset_compiled_binary_{binary_classes}.csv', encoding='utf-8')\n",
    "    te_reviews.to_csv(f'{dataset_name}_test_dataset_compiled_binary_{binary_classes}.csv', encoding='utf-8')\n",
    "    if dataset_name == 'rt':\n",
    "        dev_reviews.to_csv(f'{dataset_name}_dev_dataset_compiled_binary_{binary_classes}.csv', encoding='utf-8')\n",
    "        \n",
    "if use_partial_data:\n",
    "    tr_reviews = tr_reviews.sample(subsample_size, random_state=100)\n",
    "    te_reviews = te_reviews.sample(subsample_size, random_state=100)"
   ]
  },
  {
   "cell_type": "code",
   "execution_count": 23,
   "id": "8e737896",
   "metadata": {},
   "outputs": [
    {
     "data": {
      "text/plain": [
       "1.0    633\n",
       "3.0    510\n",
       "4.0    399\n",
       "2.0    389\n",
       "0.0    279\n",
       "Name: polarity, dtype: int64"
      ]
     },
     "execution_count": 23,
     "metadata": {},
     "output_type": "execute_result"
    }
   ],
   "source": [
    "te_reviews.polarity.value_counts()"
   ]
  },
  {
   "cell_type": "markdown",
   "id": "997fe858",
   "metadata": {},
   "source": [
    "### Filter out objective sentences\n",
    "\n",
    "Use spacy for preprocessing: lemmatization (and stop word removal?). We cannot use splitting on '.' as a proxy for sentence spans since initials like J.F. Kennedy will split a sentence in three parts.\n",
    "\n",
    "__Return lemmatized sentences from subjective filtering?__"
   ]
  },
  {
   "cell_type": "code",
   "execution_count": 169,
   "id": "307fde1c",
   "metadata": {},
   "outputs": [],
   "source": [
    "def get_subjective_sentences(sentences, subj_pred, subj_value = 1):\n",
    "    \"\"\"\n",
    "    Returns a string of sentences that is the concatenation of the\n",
    "    subjective sentences according to predictions.\n",
    "    \n",
    "    Args:\n",
    "        - sentences: list of strings that contain the sentences\n",
    "        on which subjectivity detection was performed\n",
    "        - subj_pred: predictions for each of the sentences (binary vector)\n",
    "        - subj_value: the value of subjective sentences (0 or 1)\n",
    "        \n",
    "    Returns:\n",
    "        - sentence: the concatenation of all subjective sentences\n",
    "    \"\"\"\n",
    "    sentence = ''\n",
    "    for i, p in enumerate(subj_pred):\n",
    "        if p == subj_value:\n",
    "            sentence += sentences[i]\n",
    "            sentence += ' '\n",
    "    return sentence\n",
    "\n",
    "\n",
    "def subjectivity_filter(df, filtering_clf, vectorizer):\n",
    "    \"\"\"\n",
    "    Produces a data frame of subjective sentences from a data frame\n",
    "    of sentences that are mixed subjective/objective.\n",
    "    \n",
    "    Args:\n",
    "        - df: a data frame with columns 'review' and 'polarity'\n",
    "        - vectorizer: vectorizer object such as CountVectorizer\n",
    "        - filtering_clf: classifier object that predicts the subjectivity\n",
    "        of a single sentence.\n",
    "        \n",
    "    Returns:\n",
    "        - subj_df: a data frame where the objective sentences have been\n",
    "        filtered out.\n",
    "    \"\"\"\n",
    "    \n",
    "    subjective_sentences = []\n",
    "    \n",
    "    for row in df.itertuples():\n",
    "        doc = nlp(row.review)\n",
    "        sentences = [s.text for s in doc.sents]\n",
    "        sentences_lemmatized = [' '.join(doc_preprocessor(s)) for s in sentences]\n",
    "    \n",
    "        sentences_vec = vectorizer.transform(sentences_lemmatized)\n",
    "        subj_pred = filtering_clf.predict(sentences_vec)\n",
    "        \n",
    "        # Return sentences with or without lemmatizing?\n",
    "        subj_sent = get_subjective_sentences(sentences, subj_pred)\n",
    "        \n",
    "        subjective_sentences.append(subj_sent)\n",
    "    \n",
    "    subj_df = pd.DataFrame(subjective_sentences, columns=['review'])\n",
    "    subj_df['polarity'] = df['polarity'].values\n",
    "    \n",
    "    return subj_df\n",
    "    \n",
    "    \n",
    "def subjectivity_filter_mincut(df, filtering_clf, vectorizer):\n",
    "    \"\"\"\n",
    "    Produces a data frame of subjective sentences from a data frame\n",
    "    of sentences that are mixed subjective/objective based on the\n",
    "    minimum cut method.\n",
    "    \n",
    "    Args:\n",
    "        - df: a data frame with columns 'review' and 'polarity'\n",
    "        - vectorizer: vectorizer object such as CountVectorizer\n",
    "        - filtering_clf: classifier object that predicts the subjectivity\n",
    "        of a single sentence.\n",
    "    \n",
    "    Returns:\n",
    "        - subj_df: a data frame where the objective sentences have been\n",
    "        filtered out.\n",
    "    \"\"\"\n",
    "    \n",
    "    subjective_sentences = []\n",
    "    \n",
    "    for row in df.itertuples():\n",
    "        doc = nlp(row.review)\n",
    "        sentences = [s.text for s in doc.sents]\n",
    "        n_sentences = len(sentences)\n",
    "        sentences_lemmatized = [' '.join(doc_preprocessor(s)) for s in sentences]\n",
    "    \n",
    "        sentences_vec = vectorizer.transform(sentences_lemmatized)\n",
    "        subj_probs = filtering_clf.predict_proba(sentences_vec)\n",
    "        \n",
    "        objective_probability = subj_probs[:,0]\n",
    "        subjective_probability = subj_probs[:,1]\n",
    "        \n",
    "        # Produce min-cut graph, compute the partition\n",
    "        M = get_graph_matrix(n_sentences, objective_probability, subjective_probability, threshold=3, c=0.5)\n",
    "        G = nx.convert_matrix.from_numpy_matrix(M)\n",
    "        cut_value, partition = minimum_cut(flowG = G, _s=0, _t=n_sentences+1, capacity='weight')\n",
    "        \n",
    "        subj_pred = np.zeros(n_sentences)\n",
    "        \n",
    "        # Take set belonging to the second partition: the sink has stronger\n",
    "        # connections to the sentences (nodes) that are considered subjective.\n",
    "        for n in partition[1]:\n",
    "            if not n == n_sentences+1:\n",
    "                subj_pred[n-1] = 1\n",
    "        \n",
    "        # Return sentences with or without lemmatizing?\n",
    "        subj_sent = get_subjective_sentences(sentences, subj_pred, subj_value=1)\n",
    "        \n",
    "        subjective_sentences.append(subj_sent)\n",
    "    \n",
    "    subj_df = pd.DataFrame(subjective_sentences, columns=['review'])\n",
    "    subj_df['polarity'] = df['polarity'].values\n",
    "    \n",
    "    return subj_df"
   ]
  },
  {
   "cell_type": "code",
   "execution_count": 24,
   "id": "6b882de2",
   "metadata": {},
   "outputs": [],
   "source": [
    "use_min_cut = True\n",
    "filter_subjective = False\n",
    "\n",
    "# Do not filter RT-data since (most) only contain one sentence.\n",
    "if filter_subjective and dataset_name == 'imdb':\n",
    "    if use_min_cut:\n",
    "        df_tr_filtered = subjectivity_filter_mincut(tr_reviews, subj_classifier, bin_vectorizer)\n",
    "        df_te_filtered = subjectivity_filter_mincut(te_reviews, subj_classifier, bin_vectorizer)\n",
    "        print('Filtering with min-cut method')\n",
    "    else:\n",
    "        df_tr_filtered = subjectivity_filter(tr_reviews, subj_classifier, bin_vectorizer)\n",
    "        df_te_filtered = subjectivity_filter(te_reviews, subj_classifier, bin_vectorizer)\n",
    "        print('Filtering without min-cut method')\n",
    "else:\n",
    "    df_tr_filtered = tr_reviews\n",
    "    df_te_filtered = te_reviews\n",
    "    if dataset_name == 'rt':\n",
    "        df_dev_filtered = dev_reviews"
   ]
  },
  {
   "cell_type": "markdown",
   "id": "0dc5f995",
   "metadata": {},
   "source": [
    "## Parameter optimization\n",
    "Cross validation over (a subset) of the training dataset."
   ]
  },
  {
   "cell_type": "code",
   "execution_count": null,
   "id": "42ba904b",
   "metadata": {},
   "outputs": [],
   "source": [
    "from sklearn.pipeline import Pipeline\n",
    "from sklearn.model_selection import GridSearchCV\n",
    "\n",
    "optim_train = pd.DataFrame(df_tr_filtered, copy=True)"
   ]
  },
  {
   "cell_type": "code",
   "execution_count": 281,
   "id": "3ba8064e",
   "metadata": {},
   "outputs": [],
   "source": [
    "optim_train = tr_reviews.sample(5000, random_state=100)"
   ]
  },
  {
   "cell_type": "code",
   "execution_count": null,
   "id": "e849137e",
   "metadata": {
    "scrolled": true
   },
   "outputs": [],
   "source": [
    "hyperparams_ = {'clf__alpha': [0.2],\n",
    "                'vectorizer__binary':[True],\n",
    "                'vectorizer__use_idf':[True],\n",
    "                'vectorizer__ngram_range':[(1,1),(2,2)]}\n",
    "                # 'vectorizer__smooth_idf':[True, False],\n",
    "\n",
    "pipe_ = Pipeline([\n",
    "    ('vectorizer', TfidfVectorizer(strip_accents=None,\n",
    "                                   lowercase=True,\n",
    "                                   preprocessor=None,\n",
    "                                   tokenizer=doc_preprocessor,\n",
    "                                   stop_words=None)),\n",
    "    ('clf', MultinomialNB())\n",
    "])\n",
    "\n",
    "# 5-fold cross validation.\n",
    "pipe_cv = GridSearchCV(cv=5, estimator = pipe_, param_grid = hyperparams_, verbose=2) #, n_jobs=-1)\n",
    "\n",
    "pipe_cv.fit(optim_train.review, optim_train.polarity)\n",
    "\n",
    "print(\"Best score:\", pipe_cv.best_score_) \n",
    "print(\"Best parameters:\", pipe_cv.best_params_)\n",
    "# print(pipe_cv.cv_results_['mean_test_score'])"
   ]
  },
  {
   "cell_type": "code",
   "execution_count": 283,
   "id": "bf66c8e5",
   "metadata": {},
   "outputs": [
    {
     "name": "stdout",
     "output_type": "stream",
     "text": [
      "1: {'clf__alpha': 0.2, 'vectorizer__binary': True, 'vectorizer__ngram_range': (2, 2), 'vectorizer__use_idf': True}\n",
      "2: {'clf__alpha': 0.2, 'vectorizer__binary': True, 'vectorizer__ngram_range': (1, 1), 'vectorizer__use_idf': True}\n"
     ]
    }
   ],
   "source": [
    "ix_ = np.argsort(pipe_cv.cv_results_['rank_test_score'])\n",
    "for i in ix_:\n",
    "    print(f\"{pipe_cv.cv_results_['rank_test_score'][i]}: {pipe_cv.cv_results_['params'][i]}\")"
   ]
  },
  {
   "cell_type": "markdown",
   "id": "94359629",
   "metadata": {},
   "source": [
    "## Training and evaluating sentiment classifier\n",
    "\n",
    "We instantiate a new vectorizer for the sentiment prediction data, and then train the classifier and predict on the test set"
   ]
  },
  {
   "cell_type": "code",
   "execution_count": 57,
   "id": "4a567444",
   "metadata": {},
   "outputs": [
    {
     "name": "stdout",
     "output_type": "stream",
     "text": [
      "Using unigrams:  (1, 1)\n",
      "Using binary counts: True\n",
      "Stop words used by vectorizer: None\n",
      "Using tf-idf weighting: False\n"
     ]
    }
   ],
   "source": [
    "# Parameters for sentiment classification features\n",
    "n_grams = 'unigram'\n",
    "binary_counts_ = True\n",
    "stop_words_ = None\n",
    "tf_idf = False\n",
    "alpha_ = 0.2\n",
    "\n",
    "if n_grams == 'unigram':\n",
    "    ngram_range_ = (1, 1)\n",
    "    print('Using unigrams: ', ngram_range_)\n",
    "elif n_grams == 'bigram':\n",
    "    ngram_range_ = (2, 2)\n",
    "    print('Using bigrams: ', ngram_range_)\n",
    "elif n_grams == 'both':\n",
    "    ngram_range_ = (1, 2)\n",
    "    print('Using unigrams and bigrams: ', ngram_range_)\n",
    "\n",
    "print('Using binary counts:', binary_counts_)\n",
    "print('Stop words used by vectorizer:', stop_words_)\n",
    "print('Using tf-idf weighting:', tf_idf)\n",
    "print('alpha =', alpha_)\n",
    "\n",
    "if tf_idf:\n",
    "    sentiment_vectorizer = TfidfVectorizer(strip_accents=None,\n",
    "                                           lowercase=True,\n",
    "                                           preprocessor=None,\n",
    "                                           tokenizer=doc_preprocessor,\n",
    "                                           stop_words=stop_words_,\n",
    "                                           ngram_range=ngram_range_,\n",
    "                                           binary=binary_counts_)\n",
    "else:\n",
    "    sentiment_vectorizer = CountVectorizer(strip_accents=None,\n",
    "                                           lowercase=True,\n",
    "                                           preprocessor=None,\n",
    "                                           tokenizer=doc_preprocessor,\n",
    "                                           stop_words=stop_words_,\n",
    "                                           ngram_range=ngram_range_,\n",
    "                                           binary=binary_counts_)\n",
    "    \n",
    "# Vectorizer should take training data only\n",
    "train_vec_polarity = sentiment_vectorizer.fit_transform(df_tr_filtered.review)\n",
    "train_lab_polarity = df_tr_filtered.polarity\n",
    "\n",
    "# Ignore transformation lower case warning: preprocessor handles lower case before vectorization\n",
    "test_vec_polarity = sentiment_vectorizer.transform(df_te_filtered.review)\n",
    "test_lab_polarity = df_te_filtered.polarity\n",
    "\n",
    "# Fit model\n",
    "polarity_nb = MultinomialNB(alpha = alpha_)\n",
    "polarity_nb.fit(train_vec_polarity, train_lab_polarity)\n",
    "\n",
    "# Predict\n",
    "te_pred_polarity = polarity_nb.predict(test_vec_polarity)\n",
    "\n",
    "# Display results\n",
    "if binary_classes:\n",
    "    classes = [\"neg.\", \"pos.\"]\n",
    "else:\n",
    "    classes = [\"v. neg\", \"neg.\", \"neutr.\", \"pos.\", \"v. pos.\"]\n",
    "\n",
    "clf_report  = classification_report(test_lab_polarity, te_pred_polarity, target_names=classes)\n",
    "conf_matrix = confusion_matrix(test_lab_polarity, te_pred_polarity)\n",
    "\n",
    "print(clf_report)\n",
    "print(f'Accuracy: {sum(np.diag(conf_matrix))}/{np.sum(conf_matrix)}={sum(np.diag(conf_matrix))/np.sum(conf_matrix)}')\n",
    "\n",
    "disp = ConfusionMatrixDisplay(confusion_matrix=conf_matrix, display_labels=classes)\n",
    "disp.plot()\n",
    "plt.savefig(f'{dataset_name}_binary-cl-{binary_classes}-_no-subj_alpha-{alpha_}_{n_grams}_binary-{binary_counts_}_tfidf-{tf_idf}.svg')\n",
    "plt.show()"
   ]
  },
  {
   "cell_type": "code",
   "execution_count": 212,
   "id": "f490c58d",
   "metadata": {},
   "outputs": [
    {
     "data": {
      "text/plain": [
       "1160896"
      ]
     },
     "execution_count": 212,
     "metadata": {},
     "output_type": "execute_result"
    }
   ],
   "source": [
    "# unigrams for IMDb: 90913,\n",
    "# bigrams for IMDb: 1160896,\n",
    "# uni+bigrams for IMDb: 1251809,\n",
    "\n",
    "# unigrams for IMDb (filtered): 68708,\n",
    "# bigrams for IMDb (filtered): 837521,\n",
    "# uni+bigrams for IMDb (filtered): 906229,\n",
    "\n",
    "# unigrams for IMDb (filtered with mc): 75130,\n",
    "# bigrams for IMDb (filtered with mc): 936370,\n",
    "# uni+bigrams for IMDb (filtered with mc): ,\n",
    "\n",
    "# unigrams for SST: 12651,\n",
    "# bigrams for SST: 79883,\n",
    "# uni+bigrams for SST: 92534,\n",
    "\n",
    "# unigrams for SST (binary): 11505,\n",
    "# bigrams for SST (binary): 67965,\n",
    "# uni+bigrams for SST (binary): 79470,\n",
    "len(sentiment_vectorizer.vocabulary_)"
   ]
  },
  {
   "cell_type": "code",
   "execution_count": 60,
   "id": "b8592ce8",
   "metadata": {},
   "outputs": [
    {
     "name": "stdout",
     "output_type": "stream",
     "text": [
      "              precision    recall  f1-score   support\n",
      "\n",
      "      v. neg       0.37      0.07      0.11       279\n",
      "        neg.       0.46      0.66      0.54       633\n",
      "      neutr.       0.26      0.10      0.14       389\n",
      "        pos.       0.35      0.66      0.46       510\n",
      "     v. pos.       0.55      0.19      0.28       399\n",
      "\n",
      "    accuracy                           0.40      2210\n",
      "   macro avg       0.40      0.34      0.31      2210\n",
      "weighted avg       0.40      0.40      0.35      2210\n",
      "\n",
      "Accuracy: 888/2210=0.40180995475113124\n"
     ]
    },
    {
     "data": {
      "image/png": "[encoded data removed]",
      "text/plain": [
       "<Figure size 432x288 with 2 Axes>"
      ]
     },
     "metadata": {
      "needs_background": "light"
     },
     "output_type": "display_data"
    }
   ],
   "source": []
  },
  {
   "cell_type": "markdown",
   "id": "c57be9f4",
   "metadata": {},
   "source": [
    "### Finding the predictions that were seriously wrong \n",
    "Below analysis is for the SST 5-class data."
   ]
  },
  {
   "cell_type": "code",
   "execution_count": 62,
   "id": "9acf7388",
   "metadata": {},
   "outputs": [
    {
     "name": "stdout",
     "output_type": "stream",
     "text": [
      "84 predicted as v. neg., but was v. pos.\n",
      "132 predicted as v. neg., but was v. pos.\n",
      "1741 predicted as v. pos., but was v. neg.\n",
      "1798 predicted as v. pos., but was v. neg.\n"
     ]
    }
   ],
   "source": [
    "for i in range(len(test_lab_polarity.values)):\n",
    "    if te_pred_polarity[i] == 4 and test_lab_polarity.values[i] == 0:\n",
    "        print(f'{i} predicted as v. pos., but was v. neg.')\n",
    "    elif te_pred_polarity[i] == 0 and test_lab_polarity.values[i] == 4:\n",
    "        print(f'{i} predicted as v. neg., but was v. pos.')"
   ]
  },
  {
   "cell_type": "code",
   "execution_count": 102,
   "id": "6bc541ab",
   "metadata": {},
   "outputs": [
    {
     "data": {
      "text/plain": [
       "'If Melville is creatively a great whale , this film is canned tuna .'"
      ]
     },
     "execution_count": 102,
     "metadata": {},
     "output_type": "execute_result"
    }
   ],
   "source": [
    "df_te_filtered.review.values[1741]"
   ]
  },
  {
   "cell_type": "code",
   "execution_count": 104,
   "id": "d562e2db",
   "metadata": {},
   "outputs": [],
   "source": [
    "words_ = ['if', 'melville', 'be', 'creatively', 'a', 'great', 'whale', ',', 'this', 'film', 'be', 'can', '.']\n",
    "ixs_ = [sentiment_vectorizer.vocabulary_[w] for w in words_]"
   ]
  },
  {
   "cell_type": "code",
   "execution_count": 124,
   "id": "16f54bd7",
   "metadata": {},
   "outputs": [
    {
     "name": "stdout",
     "output_type": "stream",
     "text": [
      "[-6.375, -6.352, -6.143, -6.111, -6.946] if\n",
      "[-10.382, -10.874, -10.62, -10.923, -9.779] melville\n",
      "[-4.022, -3.828, -3.931, -3.915, -4.113] be\n",
      "[-9.689, -10.874, -10.62, -10.923, -10.472] creatively\n",
      "[-4.151, -3.957, -4.069, -3.89, -3.961] a\n",
      "[-7.984, -7.616, -7.362, -7.139, -7.071] great\n",
      "[-10.382, -10.874, -9.927, -10.23, -9.086] whale\n",
      "[-4.063, -3.843, -3.899, -3.747, -3.89] ,\n",
      "[-5.276, -5.337, -5.515, -5.386, -5.502] this\n",
      "[-5.433, -5.207, -5.209, -4.967, -5.026] film\n",
      "[-4.022, -3.828, -3.931, -3.915, -4.113] be\n",
      "[-6.393, -6.455, -6.277, -6.423, -6.783] can\n",
      "[-3.445, -3.234, -3.316, -3.227, -3.355] .\n",
      "-81.61744195319474 -80.09721137234102\n",
      "whale -1.2959600324906457\n",
      "great -0.9129677802345402\n",
      "melville -0.6028128519307003\n",
      "film -0.4076431526588964\n",
      "a -0.1909295534370008\n",
      ", -0.17272269651714645\n",
      ". -0.08955709331141737\n",
      "be 0.09033432862924506\n",
      "be 0.09033432862924506\n",
      "this 0.22646650295382464\n",
      "can 0.3904389210795838\n",
      "if 0.5713069892455547\n",
      "creatively 0.7834815091891905\n"
     ]
    }
   ],
   "source": [
    "tup = []\n",
    "negp, posp = 0, 0\n",
    "for wi, i in enumerate(ixs_):\n",
    "    weight = [np.around(polarity_nb.feature_log_prob_[j][i], 3) for j in range(5)]\n",
    "    #print(f'v neg: {polarity_nb.feature_log_prob_[0][i]}, v pos: {polarity_nb.feature_log_prob_[4][i]}')\n",
    "    print(weight, words_[wi])\n",
    "    #print(words_[wi], polarity_nb.feature_log_prob_[0][i]-polarity_nb.feature_log_prob_[4][i])\n",
    "    tup.append(polarity_nb.feature_log_prob_[0][i]-polarity_nb.feature_log_prob_[4][i])\n",
    "    negp += polarity_nb.feature_log_prob_[0][i]\n",
    "    posp += polarity_nb.feature_log_prob_[4][i]\n",
    "\n",
    "print(negp, posp)\n",
    "x = np.argsort(tup)\n",
    "for i in x:\n",
    "    print(words_[i], tup[i])"
   ]
  },
  {
   "cell_type": "code",
   "execution_count": 118,
   "id": "c912cf9f",
   "metadata": {},
   "outputs": [],
   "source": [
    "creative_ix = sentiment_vectorizer.vocabulary_['creative']"
   ]
  },
  {
   "cell_type": "code",
   "execution_count": 119,
   "id": "d60574b8",
   "metadata": {},
   "outputs": [
    {
     "name": "stdout",
     "output_type": "stream",
     "text": [
      "-9.688808079634047\n",
      "-8.680530119595183\n"
     ]
    }
   ],
   "source": [
    "print(polarity_nb.feature_log_prob_[0][creative_ix])\n",
    "print(polarity_nb.feature_log_prob_[4][creative_ix])"
   ]
  },
  {
   "cell_type": "markdown",
   "id": "d64ba707",
   "metadata": {},
   "source": [
    "__We find that 'whale' contributed significantly to the classification decision *very positive*. Also, 'creatively' is most common in the *very negative* context, but 'creative' is more common in a *very positive* context.__"
   ]
  },
  {
   "cell_type": "markdown",
   "id": "8dd029ad",
   "metadata": {},
   "source": [
    "## Classification results\n",
    "See the report for the results and conclusions."
   ]
  },
  {
   "cell_type": "code",
   "execution_count": 389,
   "id": "dcad414c",
   "metadata": {},
   "outputs": [
    {
     "name": "stdout",
     "output_type": "stream",
     "text": [
      "              precision    recall  f1-score   support\n",
      "\n",
      "        neg.       0.84      0.80      0.82       912\n",
      "        pos.       0.81      0.84      0.82       909\n",
      "\n",
      "    accuracy                           0.82      1821\n",
      "   macro avg       0.82      0.82      0.82      1821\n",
      "weighted avg       0.82      0.82      0.82      1821\n",
      "\n",
      "Accuracy: 1496/1821=0.8215266337177375\n"
     ]
    },
    {
     "data": {
      "image/png": "[encoded data removed]",
      "text/plain": [
       "<Figure size 432x288 with 2 Axes>"
      ]
     },
     "metadata": {
      "needs_background": "light"
     },
     "output_type": "display_data"
    }
   ],
   "source": []
  },
  {
   "cell_type": "code",
   "execution_count": 369,
   "id": "8ede83d6",
   "metadata": {},
   "outputs": [
    {
     "name": "stdout",
     "output_type": "stream",
     "text": [
      "               precision    recall  f1-score   support\n",
      "\n",
      "Very Negative       0.37      0.07      0.11       279\n",
      "     Negative       0.46      0.66      0.54       633\n",
      "      Neutral       0.26      0.10      0.14       389\n",
      "     Positive       0.35      0.66      0.46       510\n",
      "Very Positive       0.55      0.19      0.28       399\n",
      "\n",
      "     accuracy                           0.40      2210\n",
      "    macro avg       0.40      0.34      0.31      2210\n",
      " weighted avg       0.40      0.40      0.35      2210\n",
      "\n",
      "Accuracy: 888/2210=0.40180995475113124\n"
     ]
    },
    {
     "data": {
      "image/png": "[encoded data removed]",
      "text/plain": [
       "<Figure size 432x288 with 2 Axes>"
      ]
     },
     "metadata": {
      "needs_background": "light"
     },
     "output_type": "display_data"
    }
   ],
   "source": [
    "# lemmas, no stop words, no filter. unigram, presence features, WHOLE SST DATASET"
   ]
  },
  {
   "cell_type": "code",
   "execution_count": 228,
   "id": "9d176375",
   "metadata": {},
   "outputs": [
    {
     "name": "stdout",
     "output_type": "stream",
     "text": [
      "              precision    recall  f1-score   support\n",
      "\n",
      "    Negative       0.85      0.91      0.88     12500\n",
      "    Positive       0.90      0.84      0.87     12500\n",
      "\n",
      "    accuracy                           0.87     25000\n",
      "   macro avg       0.87      0.87      0.87     25000\n",
      "weighted avg       0.87      0.87      0.87     25000\n",
      "\n",
      "Accuracy: 21808/25000=0.87232\n"
     ]
    },
    {
     "data": {
      "image/png": "[encoded data removed]",
      "text/plain": [
       "<Figure size 432x288 with 2 Axes>"
      ]
     },
     "metadata": {
      "needs_background": "light"
     },
     "output_type": "display_data"
    }
   ],
   "source": [
    "# lemmas, no stop words, no filter. bigram, presence with idf features, alpha=0.1 WHOLE IMDb DATASET"
   ]
  },
  {
   "cell_type": "code",
   "execution_count": 214,
   "id": "b99f5294",
   "metadata": {},
   "outputs": [
    {
     "name": "stdout",
     "output_type": "stream",
     "text": [
      "              precision    recall  f1-score   support\n",
      "\n",
      "    Negative       0.84      0.92      0.88     12500\n",
      "    Positive       0.92      0.82      0.87     12500\n",
      "\n",
      "    accuracy                           0.87     25000\n",
      "   macro avg       0.88      0.87      0.87     25000\n",
      "weighted avg       0.88      0.87      0.87     25000\n",
      "\n",
      "Accuracy: 21826/25000=0.87304\n"
     ]
    },
    {
     "data": {
      "image/png": "[encoded data removed]",
      "text/plain": [
       "<Figure size 432x288 with 2 Axes>"
      ]
     },
     "metadata": {
      "needs_background": "light"
     },
     "output_type": "display_data"
    }
   ],
   "source": [
    "# lemmas, no stop words, no filter. bigram, presence with idf features WHOLE IMDb DATASET"
   ]
  },
  {
   "cell_type": "code",
   "execution_count": 184,
   "id": "3cb0361b",
   "metadata": {},
   "outputs": [
    {
     "name": "stdout",
     "output_type": "stream",
     "text": [
      "              precision    recall  f1-score   support\n",
      "\n",
      "    Negative       0.83      0.93      0.88     12500\n",
      "    Positive       0.92      0.81      0.86     12500\n",
      "\n",
      "    accuracy                           0.87     25000\n",
      "   macro avg       0.87      0.87      0.87     25000\n",
      "weighted avg       0.87      0.87      0.87     25000\n",
      "\n",
      "Accuracy: 21713/25000=0.86852\n"
     ]
    },
    {
     "data": {
      "image/png": "[encoded data removed]",
      "text/plain": [
       "<Figure size 432x288 with 2 Axes>"
      ]
     },
     "metadata": {
      "needs_background": "light"
     },
     "output_type": "display_data"
    }
   ],
   "source": [
    "# lemmas, no stop words, subj. classifier with min cut. bigram, presence features WHOLE IMDb DATASET"
   ]
  },
  {
   "cell_type": "code",
   "execution_count": 178,
   "id": "db10613d",
   "metadata": {},
   "outputs": [
    {
     "name": "stdout",
     "output_type": "stream",
     "text": [
      "              precision    recall  f1-score   support\n",
      "\n",
      "    Negative       0.81      0.89      0.85     12500\n",
      "    Positive       0.88      0.79      0.83     12500\n",
      "\n",
      "    accuracy                           0.84     25000\n",
      "   macro avg       0.84      0.84      0.84     25000\n",
      "weighted avg       0.84      0.84      0.84     25000\n",
      "\n",
      "Accuracy: 21003/25000=0.84012\n"
     ]
    },
    {
     "data": {
      "image/png": "[encoded data removed]",
      "text/plain": [
       "<Figure size 432x288 with 2 Axes>"
      ]
     },
     "metadata": {
      "needs_background": "light"
     },
     "output_type": "display_data"
    }
   ],
   "source": [
    "# lemmas, no stop words, subj. classifier with min cut. unigram, presence features WHOLE IMDb DATASET"
   ]
  },
  {
   "cell_type": "code",
   "execution_count": 165,
   "id": "fac44a48",
   "metadata": {},
   "outputs": [
    {
     "name": "stdout",
     "output_type": "stream",
     "text": [
      "              precision    recall  f1-score   support\n",
      "\n",
      "    Negative       0.80      0.95      0.87     12500\n",
      "    Positive       0.94      0.76      0.84     12500\n",
      "\n",
      "    accuracy                           0.85     25000\n",
      "   macro avg       0.87      0.85      0.85     25000\n",
      "weighted avg       0.87      0.85      0.85     25000\n",
      "\n",
      "Accuracy: 21337/25000=0.85348\n"
     ]
    },
    {
     "data": {
      "image/png": "[encoded data removed]",
      "text/plain": [
       "<Figure size 432x288 with 2 Axes>"
      ]
     },
     "metadata": {
      "needs_background": "light"
     },
     "output_type": "display_data"
    }
   ],
   "source": [
    "# lemmas, no stop words, subj. classifier (not min cut). uni+bigram, tfidf features WHOLE IMDb DATASET"
   ]
  },
  {
   "cell_type": "code",
   "execution_count": 159,
   "id": "56d50930",
   "metadata": {},
   "outputs": [
    {
     "name": "stdout",
     "output_type": "stream",
     "text": [
      "              precision    recall  f1-score   support\n",
      "\n",
      "    Negative       0.84      0.91      0.87     12500\n",
      "    Positive       0.91      0.82      0.86     12500\n",
      "\n",
      "    accuracy                           0.87     25000\n",
      "   macro avg       0.87      0.87      0.87     25000\n",
      "weighted avg       0.87      0.87      0.87     25000\n",
      "\n",
      "Accuracy: 21693/25000=0.86772\n"
     ]
    },
    {
     "data": {
      "image/png": "[encoded data removed]",
      "text/plain": [
       "<Figure size 432x288 with 2 Axes>"
      ]
     },
     "metadata": {
      "needs_background": "light"
     },
     "output_type": "display_data"
    }
   ],
   "source": [
    "# lemmas, no stop words, subj. classifier (not min cut). uni+bigram, frequency features WHOLE IMDb DATASET"
   ]
  },
  {
   "cell_type": "code",
   "execution_count": 153,
   "id": "5899d493",
   "metadata": {},
   "outputs": [
    {
     "name": "stdout",
     "output_type": "stream",
     "text": [
      "              precision    recall  f1-score   support\n",
      "\n",
      "    Negative       0.85      0.92      0.88     12500\n",
      "    Positive       0.91      0.83      0.87     12500\n",
      "\n",
      "    accuracy                           0.88     25000\n",
      "   macro avg       0.88      0.88      0.88     25000\n",
      "weighted avg       0.88      0.88      0.88     25000\n",
      "\n",
      "Accuracy: 21903/25000=0.87612\n"
     ]
    },
    {
     "data": {
      "image/png": "[encoded data removed]",
      "text/plain": [
       "<Figure size 432x288 with 2 Axes>"
      ]
     },
     "metadata": {
      "needs_background": "light"
     },
     "output_type": "display_data"
    }
   ],
   "source": [
    "# lemmas, no stop words, subj. classifier (not min cut). uni+bigram, presence features WHOLE IMDb DATASET"
   ]
  },
  {
   "cell_type": "code",
   "execution_count": 147,
   "id": "1d1b3bfb",
   "metadata": {},
   "outputs": [
    {
     "name": "stdout",
     "output_type": "stream",
     "text": [
      "              precision    recall  f1-score   support\n",
      "\n",
      "    Negative       0.85      0.92      0.88     12500\n",
      "    Positive       0.91      0.83      0.87     12500\n",
      "\n",
      "    accuracy                           0.88     25000\n",
      "   macro avg       0.88      0.88      0.88     25000\n",
      "weighted avg       0.88      0.88      0.88     25000\n",
      "\n",
      "Accuracy: 21915/25000=0.8766\n"
     ]
    },
    {
     "data": {
      "image/png": "[encoded data removed]",
      "text/plain": [
       "<Figure size 432x288 with 2 Axes>"
      ]
     },
     "metadata": {
      "needs_background": "light"
     },
     "output_type": "display_data"
    }
   ],
   "source": [
    "# lemmas, no stop words, subj. classifier (not min cut). bigram, frequency features WHOLE IMDb DATASET"
   ]
  },
  {
   "cell_type": "code",
   "execution_count": 141,
   "id": "6e0fa1fe",
   "metadata": {},
   "outputs": [
    {
     "name": "stdout",
     "output_type": "stream",
     "text": [
      "              precision    recall  f1-score   support\n",
      "\n",
      "    Negative       0.81      0.95      0.88     12500\n",
      "    Positive       0.94      0.78      0.85     12500\n",
      "\n",
      "    accuracy                           0.86     25000\n",
      "   macro avg       0.88      0.86      0.86     25000\n",
      "weighted avg       0.88      0.86      0.86     25000\n",
      "\n",
      "Accuracy: 21620/25000=0.8648\n"
     ]
    },
    {
     "data": {
      "image/png": "[encoded data removed]",
      "text/plain": [
       "<Figure size 432x288 with 2 Axes>"
      ]
     },
     "metadata": {
      "needs_background": "light"
     },
     "output_type": "display_data"
    }
   ],
   "source": [
    "# lemmas, no stop words, subj. classifier (not min cut). bigram, tfidf features WHOLE IMDb DATASET"
   ]
  },
  {
   "cell_type": "code",
   "execution_count": 135,
   "id": "82bc26c0",
   "metadata": {},
   "outputs": [
    {
     "name": "stdout",
     "output_type": "stream",
     "text": [
      "              precision    recall  f1-score   support\n",
      "\n",
      "    Negative       0.85      0.92      0.88     12500\n",
      "    Positive       0.92      0.84      0.87     12500\n",
      "\n",
      "    accuracy                           0.88     25000\n",
      "   macro avg       0.88      0.88      0.88     25000\n",
      "weighted avg       0.88      0.88      0.88     25000\n",
      "\n",
      "Accuracy: 21976/25000=0.87904\n"
     ]
    },
    {
     "data": {
      "image/png": "[encoded data removed]",
      "text/plain": [
       "<Figure size 432x288 with 2 Axes>"
      ]
     },
     "metadata": {
      "needs_background": "light"
     },
     "output_type": "display_data"
    }
   ],
   "source": [
    "# lemmas, no stop words, subj. classifier (not min cut). bigram, presence features WHOLE IMDb DATASET"
   ]
  },
  {
   "cell_type": "code",
   "execution_count": 129,
   "id": "1c9d2b09",
   "metadata": {},
   "outputs": [
    {
     "name": "stdout",
     "output_type": "stream",
     "text": [
      "              precision    recall  f1-score   support\n",
      "\n",
      "    Negative       0.79      0.90      0.84     12500\n",
      "    Positive       0.88      0.76      0.82     12500\n",
      "\n",
      "    accuracy                           0.83     25000\n",
      "   macro avg       0.84      0.83      0.83     25000\n",
      "weighted avg       0.84      0.83      0.83     25000\n",
      "\n",
      "Accuracy: 20766/25000=0.83064\n"
     ]
    },
    {
     "data": {
      "image/png": "[encoded data removed]",
      "text/plain": [
       "<Figure size 432x288 with 2 Axes>"
      ]
     },
     "metadata": {
      "needs_background": "light"
     },
     "output_type": "display_data"
    }
   ],
   "source": [
    "# lemmas, no stop words, subj. classifier (not min cut). unigram, tfidf features WHOLE IMDb DATASET"
   ]
  },
  {
   "cell_type": "code",
   "execution_count": 123,
   "id": "67069ccb",
   "metadata": {},
   "outputs": [
    {
     "name": "stdout",
     "output_type": "stream",
     "text": [
      "              precision    recall  f1-score   support\n",
      "\n",
      "    Negative       0.82      0.88      0.85     12500\n",
      "    Positive       0.87      0.81      0.84     12500\n",
      "\n",
      "    accuracy                           0.84     25000\n",
      "   macro avg       0.84      0.84      0.84     25000\n",
      "weighted avg       0.84      0.84      0.84     25000\n",
      "\n",
      "Accuracy: 21066/25000=0.84264\n"
     ]
    },
    {
     "data": {
      "image/png": "[encoded data removed]",
      "text/plain": [
       "<Figure size 432x288 with 2 Axes>"
      ]
     },
     "metadata": {
      "needs_background": "light"
     },
     "output_type": "display_data"
    }
   ],
   "source": [
    "# lemmas, no stop words, subj. classifier (not min cut). unigram, presence features WHOLE IMDb DATASET"
   ]
  },
  {
   "cell_type": "code",
   "execution_count": 117,
   "id": "ba0ca844",
   "metadata": {},
   "outputs": [
    {
     "name": "stdout",
     "output_type": "stream",
     "text": [
      "              precision    recall  f1-score   support\n",
      "\n",
      "    Negative       0.81      0.87      0.84     12500\n",
      "    Positive       0.86      0.79      0.83     12500\n",
      "\n",
      "    accuracy                           0.83     25000\n",
      "   macro avg       0.83      0.83      0.83     25000\n",
      "weighted avg       0.83      0.83      0.83     25000\n",
      "\n",
      "Accuracy: 20800/25000=0.832\n"
     ]
    },
    {
     "data": {
      "image/png": "[encoded data removed]",
      "text/plain": [
       "<Figure size 432x288 with 2 Axes>"
      ]
     },
     "metadata": {
      "needs_background": "light"
     },
     "output_type": "display_data"
    }
   ],
   "source": [
    "# lemmas, no stop words, subj. classifier (not min cut). unigram, frequency features WHOLE IMDb DATASET"
   ]
  },
  {
   "cell_type": "code",
   "execution_count": 109,
   "id": "3874895d",
   "metadata": {},
   "outputs": [
    {
     "name": "stdout",
     "output_type": "stream",
     "text": [
      "              precision    recall  f1-score   support\n",
      "\n",
      "    Negative       0.82      0.92      0.87     12500\n",
      "    Positive       0.91      0.80      0.85     12500\n",
      "\n",
      "    accuracy                           0.86     25000\n",
      "   macro avg       0.86      0.86      0.86     25000\n",
      "weighted avg       0.86      0.86      0.86     25000\n",
      "\n",
      "Accuracy: 21483/25000=0.85932\n"
     ]
    },
    {
     "data": {
      "image/png": "[encoded data removed]",
      "text/plain": [
       "<Figure size 432x288 with 2 Axes>"
      ]
     },
     "metadata": {
      "needs_background": "light"
     },
     "output_type": "display_data"
    }
   ],
   "source": [
    "# lemmas, no stop words, NO subj. classifier. uni+bigram, tfidf features WHOLE IMDb DATASET"
   ]
  },
  {
   "cell_type": "code",
   "execution_count": 103,
   "id": "bb2adefa",
   "metadata": {},
   "outputs": [
    {
     "name": "stdout",
     "output_type": "stream",
     "text": [
      "              precision    recall  f1-score   support\n",
      "\n",
      "    Negative       0.83      0.92      0.87     12500\n",
      "    Positive       0.91      0.82      0.86     12500\n",
      "\n",
      "    accuracy                           0.87     25000\n",
      "   macro avg       0.87      0.87      0.87     25000\n",
      "weighted avg       0.87      0.87      0.87     25000\n",
      "\n",
      "Accuracy: 21711/25000=0.86844\n"
     ]
    },
    {
     "data": {
      "image/png": "[encoded data removed]",
      "text/plain": [
       "<Figure size 432x288 with 2 Axes>"
      ]
     },
     "metadata": {
      "needs_background": "light"
     },
     "output_type": "display_data"
    }
   ],
   "source": [
    "# lemmas, no stop words, NO subj. classifier. bigram, tfidf features WHOLE IMDb DATASET"
   ]
  },
  {
   "cell_type": "code",
   "execution_count": 97,
   "id": "9aa20364",
   "metadata": {},
   "outputs": [
    {
     "name": "stdout",
     "output_type": "stream",
     "text": [
      "              precision    recall  f1-score   support\n",
      "\n",
      "    Negative       0.78      0.89      0.83     12500\n",
      "    Positive       0.87      0.76      0.81     12500\n",
      "\n",
      "    accuracy                           0.82     25000\n",
      "   macro avg       0.83      0.82      0.82     25000\n",
      "weighted avg       0.83      0.82      0.82     25000\n",
      "\n",
      "Accuracy: 20578/25000=0.82312\n"
     ]
    },
    {
     "data": {
      "image/png": "[encoded data removed]",
      "text/plain": [
       "<Figure size 432x288 with 2 Axes>"
      ]
     },
     "metadata": {
      "needs_background": "light"
     },
     "output_type": "display_data"
    }
   ],
   "source": [
    "# lemmas, no stop words, NO subj. classifier. unigram, tfidf features WHOLE IMDb DATASET"
   ]
  },
  {
   "cell_type": "code",
   "execution_count": 91,
   "id": "fff3212d",
   "metadata": {},
   "outputs": [
    {
     "name": "stdout",
     "output_type": "stream",
     "text": [
      "              precision    recall  f1-score   support\n",
      "\n",
      "    Negative       0.83      0.91      0.87     12500\n",
      "    Positive       0.90      0.81      0.85     12500\n",
      "\n",
      "    accuracy                           0.86     25000\n",
      "   macro avg       0.86      0.86      0.86     25000\n",
      "weighted avg       0.86      0.86      0.86     25000\n",
      "\n",
      "Accuracy: 21514/25000=0.86056\n"
     ]
    },
    {
     "data": {
      "image/png": "[encoded data removed]",
      "text/plain": [
       "<Figure size 432x288 with 2 Axes>"
      ]
     },
     "metadata": {
      "needs_background": "light"
     },
     "output_type": "display_data"
    }
   ],
   "source": [
    "# lemmas, no stop words, NO subj. classifier. uni+bigram, presence features WHOLE IMDb DATASET"
   ]
  },
  {
   "cell_type": "code",
   "execution_count": 85,
   "id": "f6618658",
   "metadata": {},
   "outputs": [
    {
     "name": "stdout",
     "output_type": "stream",
     "text": [
      "              precision    recall  f1-score   support\n",
      "\n",
      "    Negative       0.84      0.91      0.87     12500\n",
      "    Positive       0.90      0.82      0.86     12500\n",
      "\n",
      "    accuracy                           0.87     25000\n",
      "   macro avg       0.87      0.87      0.87     25000\n",
      "weighted avg       0.87      0.87      0.87     25000\n",
      "\n",
      "Accuracy: 21637/25000=0.86548\n"
     ]
    },
    {
     "data": {
      "image/png": "[encoded data removed]",
      "text/plain": [
       "<Figure size 432x288 with 2 Axes>"
      ]
     },
     "metadata": {
      "needs_background": "light"
     },
     "output_type": "display_data"
    }
   ],
   "source": [
    "# lemmas, no stop words, NO subj. classifier. bigram, presence features WHOLE IMDb DATASET"
   ]
  },
  {
   "cell_type": "code",
   "execution_count": 79,
   "id": "59516142",
   "metadata": {},
   "outputs": [
    {
     "name": "stdout",
     "output_type": "stream",
     "text": [
      "              precision    recall  f1-score   support\n",
      "\n",
      "    Negative       0.79      0.89      0.83     12500\n",
      "    Positive       0.87      0.76      0.81     12500\n",
      "\n",
      "    accuracy                           0.82     25000\n",
      "   macro avg       0.83      0.82      0.82     25000\n",
      "weighted avg       0.83      0.82      0.82     25000\n",
      "\n",
      "Accuracy: 20598/25000=0.82392\n"
     ]
    },
    {
     "data": {
      "image/png": "[encoded data removed]",
      "text/plain": [
       "<Figure size 432x288 with 2 Axes>"
      ]
     },
     "metadata": {
      "needs_background": "light"
     },
     "output_type": "display_data"
    }
   ],
   "source": [
    "# lemmas, no stop words, NO subj. classifier. unigram, presence features WHOLE IMDb DATASET"
   ]
  },
  {
   "cell_type": "code",
   "execution_count": 73,
   "id": "469a72be",
   "metadata": {},
   "outputs": [
    {
     "name": "stdout",
     "output_type": "stream",
     "text": [
      "              precision    recall  f1-score   support\n",
      "\n",
      "    Negative       0.82      0.90      0.86     12500\n",
      "    Positive       0.89      0.80      0.84     12500\n",
      "\n",
      "    accuracy                           0.85     25000\n",
      "   macro avg       0.85      0.85      0.85     25000\n",
      "weighted avg       0.85      0.85      0.85     25000\n",
      "\n",
      "Accuracy: 21229/25000=0.84916\n"
     ]
    },
    {
     "data": {
      "image/png": "[encoded data removed]",
      "text/plain": [
       "<Figure size 432x288 with 2 Axes>"
      ]
     },
     "metadata": {
      "needs_background": "light"
     },
     "output_type": "display_data"
    }
   ],
   "source": [
    "# lemmas, no stop words, NO subj. classifier. uni+bigram frequency features WHOLE IMDb DATASET"
   ]
  },
  {
   "cell_type": "code",
   "execution_count": 65,
   "id": "30c35c1a",
   "metadata": {},
   "outputs": [
    {
     "name": "stdout",
     "output_type": "stream",
     "text": [
      "              precision    recall  f1-score   support\n",
      "\n",
      "    Negative       0.83      0.90      0.87     12500\n",
      "    Positive       0.90      0.82      0.86     12500\n",
      "\n",
      "    accuracy                           0.86     25000\n",
      "   macro avg       0.86      0.86      0.86     25000\n",
      "weighted avg       0.86      0.86      0.86     25000\n",
      "\n",
      "Accuracy: 21554/25000=0.86216\n"
     ]
    },
    {
     "data": {
      "image/png": "[encoded data removed]",
      "text/plain": [
       "<Figure size 432x288 with 2 Axes>"
      ]
     },
     "metadata": {
      "needs_background": "light"
     },
     "output_type": "display_data"
    }
   ],
   "source": [
    "# lemmas, no stop words, NO subj. classifier. bigram frequency features WHOLE IMDb DATASET"
   ]
  },
  {
   "cell_type": "code",
   "execution_count": 33,
   "id": "493ca6a6",
   "metadata": {},
   "outputs": [
    {
     "name": "stdout",
     "output_type": "stream",
     "text": [
      "              precision    recall  f1-score   support\n",
      "\n",
      "    Negative       0.77      0.87      0.82     12500\n",
      "    Positive       0.85      0.74      0.79     12500\n",
      "\n",
      "    accuracy                           0.81     25000\n",
      "   macro avg       0.81      0.81      0.80     25000\n",
      "weighted avg       0.81      0.81      0.80     25000\n",
      "\n",
      "Accuracy: 20141/25000=0.80564\n"
     ]
    },
    {
     "data": {
      "image/png": "[encoded data removed]",
      "text/plain": [
       "<Figure size 432x288 with 2 Axes>"
      ]
     },
     "metadata": {
      "needs_background": "light"
     },
     "output_type": "display_data"
    }
   ],
   "source": [
    "# lemmas, no stop words, NO subj. classifier. unigram frequency features WHOLE IMDb DATASET"
   ]
  },
  {
   "cell_type": "code",
   "execution_count": 141,
   "id": "075b2303",
   "metadata": {},
   "outputs": [
    {
     "name": "stdout",
     "output_type": "stream",
     "text": [
      "              precision    recall  f1-score   support\n",
      "\n",
      "    Negative       0.81      0.87      0.84     12500\n",
      "    Positive       0.86      0.79      0.83     12500\n",
      "\n",
      "    accuracy                           0.83     25000\n",
      "   macro avg       0.83      0.83      0.83     25000\n",
      "weighted avg       0.83      0.83      0.83     25000\n",
      "\n",
      "Accuracy: 20800/25000=0.832\n"
     ]
    },
    {
     "data": {
      "image/png": "[encoded data removed]",
      "text/plain": [
       "<Figure size 432x288 with 2 Axes>"
      ]
     },
     "metadata": {
      "needs_background": "light"
     },
     "output_type": "display_data"
    }
   ],
   "source": [
    "# lemmas, no stop words, subj. classifier trained on entire dataset. unigram frequency features WHOLE IMDb DATASET"
   ]
  }
 ],
 "metadata": {
  "kernelspec": {
   "display_name": "Python 3",
   "language": "python",
   "name": "python3"
  },
  "language_info": {
   "codemirror_mode": {
    "name": "ipython",
    "version": 3
   },
   "file_extension": ".py",
   "mimetype": "text/x-python",
   "name": "python",
   "nbconvert_exporter": "python",
   "pygments_lexer": "ipython3",
   "version": "3.9.5"
  }
 },
 "nbformat": 4,
 "nbformat_minor": 5
}
