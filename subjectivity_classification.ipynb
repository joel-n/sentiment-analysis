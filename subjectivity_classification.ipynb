{
 "cells": [
  {
   "cell_type": "markdown",
   "id": "cac04ec6",
   "metadata": {},
   "source": [
    "# Subjectivity analysis\n",
    "Use [subjective/objective movie review data](https://www.cs.cornell.edu/people/pabo/movie-review-data/) to train a classifier to filter out objective sentences as a preprocessing step to sentiment analysis."
   ]
  },
  {
   "cell_type": "code",
   "execution_count": 1,
   "id": "12208a8f",
   "metadata": {},
   "outputs": [],
   "source": [
    "import os\n",
    "import pandas as pd\n",
    "import numpy as np\n",
    "from sklearn.feature_extraction.text import CountVectorizer\n",
    "from sklearn.naive_bayes import MultinomialNB\n",
    "from sklearn.metrics import classification_report"
   ]
  },
  {
   "cell_type": "code",
   "execution_count": 9,
   "id": "2d27a49d",
   "metadata": {},
   "outputs": [],
   "source": [
    "import spacy\n",
    "nlp = spacy.load(\"en_core_web_sm\", exclude=[\"ner\"]) # change to large model in the final execution\n",
    "# nlp2 = spacy.load(\"en_core_web_lg\", exclude=[\"ner\"])"
   ]
  },
  {
   "cell_type": "markdown",
   "id": "14b04b10",
   "metadata": {},
   "source": [
    "## Load and label data\n",
    "The data of reviews are assumed to be subjective, and the plot descriptions are assumed to be objective."
   ]
  },
  {
   "cell_type": "code",
   "execution_count": 2,
   "id": "eddc17ca",
   "metadata": {},
   "outputs": [],
   "source": [
    "subjective_df = pd.read_csv('subjectivity_data/plot.tok.gt9.5000', encoding='ISO-8859-1', #alternatively 'latin-1'\n",
    "                            sep='\\n', header=None, names=['sentence'])\n",
    "objective_df  = pd.read_csv('subjectivity_data/quote.tok.gt9.5000', encoding='ISO-8859-1', #alternatively 'latin-1'\n",
    "                            sep='\\n', header=None, names=['sentence'])\n",
    "subjective_df['label'] = 1\n",
    "objective_df['label'] = 0"
   ]
  },
  {
   "cell_type": "code",
   "execution_count": 3,
   "id": "dcf36185",
   "metadata": {},
   "outputs": [
    {
     "data": {
      "text/html": [
       "<div>\n",
       "<style scoped>\n",
       "    .dataframe tbody tr th:only-of-type {\n",
       "        vertical-align: middle;\n",
       "    }\n",
       "\n",
       "    .dataframe tbody tr th {\n",
       "        vertical-align: top;\n",
       "    }\n",
       "\n",
       "    .dataframe thead th {\n",
       "        text-align: right;\n",
       "    }\n",
       "</style>\n",
       "<table border=\"1\" class=\"dataframe\">\n",
       "  <thead>\n",
       "    <tr style=\"text-align: right;\">\n",
       "      <th></th>\n",
       "      <th>sentence</th>\n",
       "      <th>label</th>\n",
       "    </tr>\n",
       "  </thead>\n",
       "  <tbody>\n",
       "    <tr>\n",
       "      <th>0</th>\n",
       "      <td>smart and alert , thirteen conversations about...</td>\n",
       "      <td>0</td>\n",
       "    </tr>\n",
       "    <tr>\n",
       "      <th>1</th>\n",
       "      <td>color , musical bounce and warm seas lapping o...</td>\n",
       "      <td>0</td>\n",
       "    </tr>\n",
       "    <tr>\n",
       "      <th>2</th>\n",
       "      <td>it is not a mass-market entertainment but an u...</td>\n",
       "      <td>0</td>\n",
       "    </tr>\n",
       "    <tr>\n",
       "      <th>3</th>\n",
       "      <td>a light-hearted french film about the spiritua...</td>\n",
       "      <td>0</td>\n",
       "    </tr>\n",
       "    <tr>\n",
       "      <th>4</th>\n",
       "      <td>my wife is an actress has its moments in looki...</td>\n",
       "      <td>0</td>\n",
       "    </tr>\n",
       "  </tbody>\n",
       "</table>\n",
       "</div>"
      ],
      "text/plain": [
       "                                            sentence  label\n",
       "0  smart and alert , thirteen conversations about...      0\n",
       "1  color , musical bounce and warm seas lapping o...      0\n",
       "2  it is not a mass-market entertainment but an u...      0\n",
       "3  a light-hearted french film about the spiritua...      0\n",
       "4  my wife is an actress has its moments in looki...      0"
      ]
     },
     "execution_count": 3,
     "metadata": {},
     "output_type": "execute_result"
    }
   ],
   "source": [
    "data = pd.concat([objective_df, subjective_df], ignore_index=False)\n",
    "data.head()"
   ]
  },
  {
   "cell_type": "markdown",
   "id": "ed78c2de",
   "metadata": {},
   "source": [
    "Split data into train and test sets"
   ]
  },
  {
   "cell_type": "code",
   "execution_count": 4,
   "id": "d70560f7",
   "metadata": {},
   "outputs": [],
   "source": [
    "from sklearn.model_selection import train_test_split"
   ]
  },
  {
   "cell_type": "code",
   "execution_count": 5,
   "id": "a73f6b6c",
   "metadata": {},
   "outputs": [],
   "source": [
    "train_sentences, test_sentences, train_labels, test_labels = train_test_split(data.sentence, data.label,\n",
    "                                                                              test_size=0.3, random_state=100)"
   ]
  },
  {
   "cell_type": "code",
   "execution_count": 63,
   "id": "c6c2de79",
   "metadata": {},
   "outputs": [
    {
     "name": "stdout",
     "output_type": "stream",
     "text": [
      "fresh from a series of emotional trauma , allison be distrustful and not so easily rescue , though over a period of two day she come to regard her idealization of dylan as a last opportunity for security and happiness .\n"
     ]
    }
   ],
   "source": [
    "doc = nlp(train_sentences.iloc[4])\n",
    "sentences_ = ' '.join([s.lemma_ for s in doc])\n",
    "print(sentences_)"
   ]
  },
  {
   "cell_type": "markdown",
   "id": "3a2c82b9",
   "metadata": {},
   "source": [
    "Should non-alphanumeric characters be removed here as well? (punctuation should not matter too much)\n",
    "\n",
    "Perhaps stop words should not be checked since there are domain specific words"
   ]
  },
  {
   "cell_type": "code",
   "execution_count": 6,
   "id": "4f47362d",
   "metadata": {},
   "outputs": [],
   "source": [
    "def doc_preprocessor(text):\n",
    "    \"\"\"\n",
    "    Preprocessor that returns a list of lemmas of a given text\n",
    "    \n",
    "    Input:\n",
    "        - text: string that contains the text to be preprocessed\n",
    "        \n",
    "    Output:\n",
    "        - tokens: a list of strings (lemmas)\n",
    "    \"\"\"\n",
    "    \n",
    "    doc = nlp(text)\n",
    "    tokens = [token.lemma_ for token in doc if not token.is_stop]\n",
    "    #tokens = [token.lemma_ for token in doc]\n",
    "    #tokens = [token.text for token in doc]\n",
    "    return tokens"
   ]
  },
  {
   "cell_type": "code",
   "execution_count": 58,
   "id": "67970b51",
   "metadata": {},
   "outputs": [
    {
     "data": {
      "text/plain": [
       "'fresh from a series of emotional traumas , allison is distrustful and not so easily rescued , though over a period of two days she comes to regard her idealization of dylan as a last opportunity for security and happiness . '"
      ]
     },
     "execution_count": 58,
     "metadata": {},
     "output_type": "execute_result"
    }
   ],
   "source": [
    "train_sentences.iloc[4]"
   ]
  },
  {
   "cell_type": "markdown",
   "id": "7f5e1c74",
   "metadata": {},
   "source": [
    "Use binary vectorizer"
   ]
  },
  {
   "cell_type": "code",
   "execution_count": 7,
   "id": "5b95fe36",
   "metadata": {},
   "outputs": [],
   "source": [
    "# SET doc_preprocessor AS THE tokenizer ATTRIBUTE IN THE COUNT VECTORIZER TO USE IT\n",
    "bin_vectorizer = CountVectorizer(strip_accents=None, lowercase=True,\n",
    "                                 preprocessor=None, tokenizer=doc_preprocessor,\n",
    "                                 stop_words=None, ngram_range=(1, 1),\n",
    "                                 binary=False)"
   ]
  },
  {
   "cell_type": "code",
   "execution_count": null,
   "id": "b83480b9",
   "metadata": {},
   "outputs": [],
   "source": [
    "bin_vectorizer.fit(data.sentence)"
   ]
  },
  {
   "cell_type": "code",
   "execution_count": 11,
   "id": "eb0b3912",
   "metadata": {},
   "outputs": [],
   "source": [
    "train_vec = bin_vectorizer.transform(train_sentences)\n",
    "test_vec  = bin_vectorizer.transform(test_sentences)"
   ]
  },
  {
   "cell_type": "markdown",
   "id": "2aef88e4",
   "metadata": {},
   "source": [
    "## Train a naïve Bayes classifier\n",
    "Predict on the test set"
   ]
  },
  {
   "cell_type": "code",
   "execution_count": 12,
   "id": "9b9a9ea6",
   "metadata": {},
   "outputs": [],
   "source": [
    "m_naive_bayes = MultinomialNB()\n",
    "m_naive_bayes.fit(train_vec, train_labels)\n",
    "te_pred = m_naive_bayes.predict(test_vec)"
   ]
  },
  {
   "cell_type": "code",
   "execution_count": 14,
   "id": "b7052bf8",
   "metadata": {},
   "outputs": [],
   "source": [
    "con_mat = classification_report(test_labels, te_pred)"
   ]
  },
  {
   "cell_type": "code",
   "execution_count": 15,
   "id": "dbea87c2",
   "metadata": {},
   "outputs": [
    {
     "name": "stdout",
     "output_type": "stream",
     "text": [
      "              precision    recall  f1-score   support\n",
      "\n",
      "           0       0.90      0.91      0.91      1495\n",
      "           1       0.91      0.90      0.91      1505\n",
      "\n",
      "    accuracy                           0.91      3000\n",
      "   macro avg       0.91      0.91      0.91      3000\n",
      "weighted avg       0.91      0.91      0.91      3000\n",
      "\n"
     ]
    }
   ],
   "source": [
    "print(con_mat)"
   ]
  },
  {
   "cell_type": "code",
   "execution_count": 12,
   "id": "11d58c6b",
   "metadata": {},
   "outputs": [
    {
     "name": "stdout",
     "output_type": "stream",
     "text": [
      "              precision    recall  f1-score   support\n",
      "\n",
      "           0       0.90      0.92      0.91      1495\n",
      "           1       0.92      0.90      0.91      1505\n",
      "\n",
      "    accuracy                           0.91      3000\n",
      "   macro avg       0.91      0.91      0.91      3000\n",
      "weighted avg       0.91      0.91      0.91      3000\n",
      "\n"
     ]
    }
   ],
   "source": [
    "# Without preprocessing:\n",
    "print(con_mat)"
   ]
  },
  {
   "cell_type": "markdown",
   "id": "dd847983",
   "metadata": {},
   "source": [
    "OK! Use the predicted labels of the sentences to decide which are subjective and objective respectively. The subjective sentences can be used for polarity prediction."
   ]
  },
  {
   "cell_type": "markdown",
   "id": "f1f8bff3",
   "metadata": {},
   "source": [
    "# Graph-based subjectivity classification\n",
    "Method adopted from [A Sentimental Education: Sentiment Analysis Using Subjectivity Summarization Based on Minimum Cuts by Pang and Lee](https://arxiv.org/abs/cs/0409058). Use proximity information to decide if a sentence should be classified as subjective or objective. Use the naïve Bayes classifier probabilities as weights in a graph and find the minimum cut to separate objective from subjective sentences.\n",
    "\n",
    "The weights from the source to a sentence is the probability of the sentence being objective (1), and from a sentence to the sink the weight is the probability of the sentence being subjective (0).\n",
    "\n",
    "Use the package `networkx` for running the min-cut algorithm [`networkx.algorithms.flow.minimum_cut`](https://networkx.org/documentation/stable/reference/algorithms/generated/networkx.algorithms.flow.minimum_cut.html)."
   ]
  },
  {
   "cell_type": "code",
   "execution_count": 16,
   "id": "48175ae1",
   "metadata": {},
   "outputs": [],
   "source": [
    "prob = m_naive_bayes.predict_proba(test_vec)"
   ]
  },
  {
   "cell_type": "code",
   "execution_count": 17,
   "id": "ccc4c7dd",
   "metadata": {},
   "outputs": [
    {
     "name": "stdout",
     "output_type": "stream",
     "text": [
      "[[2.10820485e-01 7.89179515e-01]\n",
      " [1.45190594e-04 9.99854809e-01]\n",
      " [9.99938962e-01 6.10382582e-05]\n",
      " ...\n",
      " [9.99240041e-01 7.59958892e-04]\n",
      " [1.00000000e+00 1.32711468e-11]\n",
      " [9.78859278e-01 2.11407219e-02]]\n",
      "[1 1 0 ... 0 0 0]\n"
     ]
    }
   ],
   "source": [
    "print(prob)\n",
    "print(te_pred)"
   ]
  },
  {
   "cell_type": "code",
   "execution_count": 18,
   "id": "01ba983d",
   "metadata": {},
   "outputs": [],
   "source": [
    "to_source = prob[:,0] # objective probability\n",
    "to_sink = prob[:,1]   # subjective probability"
   ]
  },
  {
   "cell_type": "markdown",
   "id": "8a778363",
   "metadata": {},
   "source": [
    "Use an associative weight between sentence nodes $assoc(s_i,s_j) = c\\cdot f(j-i) $ for $j-1 \\leq T$ and $0$ otherwise, where $f(d)$ is decreasing. Pang and Lee used $c\\in[0,1]$ with steps of $0.1$, $T\\in\\{1,2,3\\}$, and $f(d)\\in\\{1, e^{1-d}, 1/d^2\\}$."
   ]
  },
  {
   "cell_type": "code",
   "execution_count": 55,
   "id": "a5512af2",
   "metadata": {},
   "outputs": [],
   "source": [
    "def get_assoc_matrix(n_sentences, threshold=3, c=0.5):\n",
    "    \"\"\"\n",
    "    Returns the weight matrix for the nodes\n",
    "    Input:\n",
    "        - n_sentences: the number of sentences in the review\n",
    "        - threshold: the number of sentences that count as being close\n",
    "        - c: weight (for each class) of the associative function\n",
    "    \"\"\"\n",
    "    A = np.zeros((n_sentences,n_sentences))\n",
    "    \n",
    "    for i in range(n_sentences):\n",
    "        for j in range(i+1, n_sentences):\n",
    "            if j-i <= threshold:\n",
    "                d = j-i\n",
    "                A[i,j] = c*np.exp(1-d)\n",
    "                A[j,i] = c*np.exp(1-d)\n",
    "    return A\n",
    "\n",
    "\n",
    "def get_graph_matrix(n_sentences, obj_prob, subj_prob, threshold=3, c=0.5):\n",
    "    \"\"\"\n",
    "    Produces the (undirected) adjeacency matrix for the proposed\n",
    "    minimum cut problem.\n",
    "    \n",
    "    Input:\n",
    "        - n_sentences: number of sentences in the review\n",
    "        - obj_prob: probabilities that the sentence is classified as objective\n",
    "        - subj_prob: probabilities that the sentence is classified as subjective\n",
    "        Used in the association matrix computation:\n",
    "        - threshold: the number of sentences that count as being close\n",
    "        - c: weight (for each class) of the associative function\n",
    "        \n",
    "    Output:\n",
    "        - M: numpy array that represents the graph\n",
    "    \"\"\"\n",
    "    \n",
    "    A = get_assoc_matrix(n_sentences, threshold, c)\n",
    "    \n",
    "    M = np.zeros((n_sentences+2, n_sentences+2))\n",
    "    M[1:n_sentences+1, 0] = obj_prob[0:n_sentences]\n",
    "    M[0, 1:n_sentences+1] = obj_prob[0:n_sentences]\n",
    "\n",
    "    M[n_sentences+1, 1:n_sentences+1] = subj_prob[0:n_sentences]\n",
    "    M[1:n_sentences+1, n_sentences+1] = subj_prob[0:n_sentences]\n",
    "\n",
    "    M[1:n_sentences+1, 1:n_sentences+1] = A\n",
    "    \n",
    "    return M\n",
    "\n",
    "\n",
    "def get_mincut_predictions(reviews, vectorizer, subjectivity_clf):\n",
    "    \"\"\"\n",
    "    Returns the subjective sentence prediction based on the minimum cut method.\n",
    "    \n",
    "    Input:\n",
    "        - sentences: the sentences to be predicted\n",
    "        - vectorizer: vectorizer object such as CountVectorizer\n",
    "        - subjectivity_clf: classifier object that predicts the subjectivity\n",
    "        of a single sentence.\n",
    "    \n",
    "    Output:\n",
    "        - pred: a vector indicating objective (0) and subjective (1) sentences\n",
    "    \"\"\"\n",
    "    pass\n",
    "    \n"
   ]
  },
  {
   "cell_type": "markdown",
   "id": "1617d519",
   "metadata": {},
   "source": [
    "__N.B. In the example below we use sentences that are _not_ close to each other, and the classification will _not_ be improved here as a result.__"
   ]
  },
  {
   "cell_type": "code",
   "execution_count": 59,
   "id": "57796ed5",
   "metadata": {},
   "outputs": [
    {
     "name": "stdout",
     "output_type": "stream",
     "text": [
      "[[0.    0.211 0.    1.    1.    0.942 1.    1.    1.    0.   ]\n",
      " [0.211 0.    0.5   0.184 0.068 0.    0.    0.    0.    0.789]\n",
      " [0.    0.5   0.    0.5   0.184 0.068 0.    0.    0.    1.   ]\n",
      " [1.    0.184 0.5   0.    0.5   0.184 0.068 0.    0.    0.   ]\n",
      " [1.    0.068 0.184 0.5   0.    0.5   0.184 0.068 0.    0.   ]\n",
      " [0.942 0.    0.068 0.184 0.5   0.    0.5   0.184 0.068 0.058]\n",
      " [1.    0.    0.    0.068 0.184 0.5   0.    0.5   0.184 0.   ]\n",
      " [1.    0.    0.    0.    0.068 0.184 0.5   0.    0.5   0.   ]\n",
      " [1.    0.    0.    0.    0.    0.068 0.184 0.5   0.    0.   ]\n",
      " [0.    0.789 1.    0.    0.    0.058 0.    0.    0.    0.   ]]\n"
     ]
    }
   ],
   "source": [
    "M = get_graph_matrix(n_sentences = 8)\n",
    "print(np.around(M,3))"
   ]
  },
  {
   "cell_type": "code",
   "execution_count": 23,
   "id": "56b441cd",
   "metadata": {},
   "outputs": [],
   "source": [
    "import networkx as nx\n",
    "from networkx.algorithms.flow import minimum_cut\n",
    "G = nx.convert_matrix.from_numpy_matrix(M)"
   ]
  },
  {
   "cell_type": "code",
   "execution_count": 24,
   "id": "06efab9f",
   "metadata": {
    "scrolled": true
   },
   "outputs": [
    {
     "data": {
      "image/png": "[encoded data removed]",
      "text/plain": [
       "<Figure size 432x288 with 1 Axes>"
      ]
     },
     "metadata": {},
     "output_type": "display_data"
    }
   ],
   "source": [
    "nx.draw(G, with_labels=True, font_weight='bold')"
   ]
  },
  {
   "cell_type": "code",
   "execution_count": 25,
   "id": "21d7d55f",
   "metadata": {},
   "outputs": [],
   "source": [
    "cut_value, partition = minimum_cut(flowG = G, _s=0, _t=n_sentences+1, capacity='weight')"
   ]
  },
  {
   "cell_type": "code",
   "execution_count": 26,
   "id": "8e735847",
   "metadata": {},
   "outputs": [
    {
     "name": "stdout",
     "output_type": "stream",
     "text": [
      "3018    the killer is getting closer , revealing more ...\n",
      "4225    may is a young strange girl who had a very dis...\n",
      "3854    ms . bennett is worth watching , and her story...\n",
      "2029    the film jolts the laughs from the audience--a...\n",
      "3539    the wild thornberrys movie has all the sibling...\n",
      "1942    claude miller airs out a tight plot with an ea...\n",
      "1250    one of [jaglom's] better efforts -- a wry and ...\n",
      "2817    it may not be history  but then again , what ...\n",
      "Name: sentence, dtype: object\n"
     ]
    }
   ],
   "source": [
    "print(test_sentences[0:8])"
   ]
  },
  {
   "cell_type": "code",
   "execution_count": 27,
   "id": "3cb112b4",
   "metadata": {},
   "outputs": [
    {
     "name": "stdout",
     "output_type": "stream",
     "text": [
      "({0, 3, 4, 5, 6, 7, 8}, {9, 2, 1})\n",
      "[1 1 0 0 0 0 0 0]\n"
     ]
    }
   ],
   "source": [
    "print(partition)\n",
    "print(te_pred[0:8])"
   ]
  },
  {
   "cell_type": "markdown",
   "id": "8a1551ac",
   "metadata": {},
   "source": [
    "Sanity check: We disregard the sink and source nodes 0 and 9, and find node 1 and 2 being objective, and the rest subjective, just like we had with the NB classifier. If the emphasis on proximity is increased (e.g. increase $c$ or $T$), the partition might change."
   ]
  },
  {
   "cell_type": "markdown",
   "id": "ae4fe2e3",
   "metadata": {},
   "source": [
    "# Classification of reviews\n",
    "### Read reviews and filter out objective sentences.\n",
    "\n",
    "We begin by reading the data from the IMDb data set."
   ]
  },
  {
   "cell_type": "code",
   "execution_count": 97,
   "id": "e7d9c73f",
   "metadata": {},
   "outputs": [],
   "source": [
    "def read_folder(folder_path):\n",
    "    file_paths = os.listdir(folder_path)\n",
    "    review = []\n",
    "    for filename in file_paths:\n",
    "        with open(f'{folder_path}/{filename}', mode='r', encoding=\"utf8\") as file:\n",
    "            review.append(file.readline())\n",
    "    return review, file_paths\n",
    "\n",
    "\n",
    "def load_data():\n",
    "    tr_pos_review, _ = read_folder('aclImdb/train/pos')\n",
    "    tr_neg_review, _ = read_folder('aclImdb/train/neg')\n",
    "    te_pos_review, _ = read_folder('aclImdb/test/pos')\n",
    "    te_neg_review, _ = read_folder('aclImdb/test/neg')\n",
    "    \n",
    "    tr_reviews_pos = pd.DataFrame(tr_pos_review, columns=['review'])\n",
    "    tr_reviews_pos['polarity'] = 1\n",
    "    tr_reviews_neg = pd.DataFrame(tr_neg_review, columns=['review'])\n",
    "    tr_reviews_neg['polarity'] = 0\n",
    "    \n",
    "    tr_reviews = tr_reviews_pos.append(tr_reviews_neg, ignore_index=True)\n",
    "    \n",
    "    te_reviews_pos = pd.DataFrame(te_pos_review, columns=['review'])\n",
    "    te_reviews_pos['polarity'] = 1\n",
    "    te_reviews_neg = pd.DataFrame(te_neg_review, columns=['review'])\n",
    "    te_reviews_neg['polarity'] = 0\n",
    "    \n",
    "    te_reviews = te_reviews_pos.append(te_reviews_neg, ignore_index=True)\n",
    "    \n",
    "    return tr_reviews, te_reviews"
   ]
  },
  {
   "cell_type": "code",
   "execution_count": 98,
   "id": "5f461fe9",
   "metadata": {},
   "outputs": [],
   "source": [
    "tr_reviews, te_reviews = load_data()"
   ]
  },
  {
   "cell_type": "code",
   "execution_count": 99,
   "id": "7a1003f3",
   "metadata": {},
   "outputs": [
    {
     "data": {
      "text/plain": [
       "(25000, 2)"
      ]
     },
     "execution_count": 99,
     "metadata": {},
     "output_type": "execute_result"
    }
   ],
   "source": [
    "tr_reviews.shape"
   ]
  },
  {
   "cell_type": "markdown",
   "id": "0381eed3",
   "metadata": {},
   "source": [
    "#### Functions for filtering out the subjective sentences\n",
    "\n",
    "Use spacy for preprocessing: lemmatization (and stop word removal?). We cannot use splitting on '.' as a proxy for sentence spans since initials like J.F. Kennedy will split a sentence in three parts."
   ]
  },
  {
   "cell_type": "code",
   "execution_count": 100,
   "id": "ca318ed5",
   "metadata": {},
   "outputs": [],
   "source": [
    "def get_subjective_sentences(sentences, subj_pred, subj_value = 0):\n",
    "    \"\"\"\n",
    "    Returns a string of sentences that is the concatenation of the\n",
    "    subjective sentences according to predictions.\n",
    "    \n",
    "    Input:\n",
    "        - sentences: list of strings that contain the sentences\n",
    "        on which subjectivity detection was performed\n",
    "        - subj_pred: predictions for each of the sentences (binary vector)\n",
    "        - subj_value: the value of subjective sentences (0 or 1)\n",
    "        \n",
    "    Output:\n",
    "        - sentence: the concatenation of all subjective sentences\n",
    "    \"\"\"\n",
    "    sentence = ''\n",
    "    for i, p in enumerate(subj_pred):\n",
    "        if p == subj_value:\n",
    "            sentence += sentences[i]\n",
    "            sentence += ' '\n",
    "    return sentence\n",
    "\n",
    "\n",
    "def subjectivity_filter(df, filtering_clf, vectorizer):\n",
    "    \"\"\"\n",
    "    Produces a data frame of subjective sentences from a data frame\n",
    "    of sentences that are mixed subjective/objective.\n",
    "    \n",
    "    Input:\n",
    "        - df: a data frame with columns 'review' and 'polarity'\n",
    "        - vectorizer: vectorizer object such as CountVectorizer\n",
    "        - filtering_clf: classifier object that predicts the subjectivity\n",
    "        of a single sentence.\n",
    "        \n",
    "    Output:\n",
    "        - subj_df: a data frame where the objective sentences have been\n",
    "        filtered out.\n",
    "    \"\"\"\n",
    "    \n",
    "    subjective_sentences = []\n",
    "    \n",
    "    for row in df.itertuples():\n",
    "        doc = nlp(row.review)\n",
    "        sentences = [s.text for s in doc.sents]\n",
    "        sentences_lemmatized = [' '.join(doc_preprocessor(s)) for s in sentences]\n",
    "    \n",
    "        sentences_vec = vectorizer.transform(sentences_lemmatized)\n",
    "        subj_pred = filtering_clf.predict(sentences_vec)\n",
    "        \n",
    "        # Return sentences with or without lemmatizing?\n",
    "        subj_sent = get_subjective_sentences(sentences, subj_pred)\n",
    "        \n",
    "        subjective_sentences.append(subj_sent)\n",
    "    \n",
    "    subj_df = pd.DataFrame(subjective_sentences, columns=['review'])\n",
    "    subj_df['polarity'] = df['polarity']\n",
    "    \n",
    "    return subj_df\n",
    "    "
   ]
  },
  {
   "cell_type": "code",
   "execution_count": 101,
   "id": "dfb36594",
   "metadata": {},
   "outputs": [],
   "source": [
    "df_tr_filtered = subjectivity_filter(tr_reviews, m_naive_bayes, bin_vectorizer)\n",
    "df_te_filtered = subjectivity_filter(te_reviews, m_naive_bayes, bin_vectorizer)"
   ]
  },
  {
   "cell_type": "code",
   "execution_count": 102,
   "id": "e58f1459",
   "metadata": {},
   "outputs": [
    {
     "data": {
      "text/html": [
       "<div>\n",
       "<style scoped>\n",
       "    .dataframe tbody tr th:only-of-type {\n",
       "        vertical-align: middle;\n",
       "    }\n",
       "\n",
       "    .dataframe tbody tr th {\n",
       "        vertical-align: top;\n",
       "    }\n",
       "\n",
       "    .dataframe thead th {\n",
       "        text-align: right;\n",
       "    }\n",
       "</style>\n",
       "<table border=\"1\" class=\"dataframe\">\n",
       "  <thead>\n",
       "    <tr style=\"text-align: right;\">\n",
       "      <th></th>\n",
       "      <th>review</th>\n",
       "      <th>polarity</th>\n",
       "    </tr>\n",
       "  </thead>\n",
       "  <tbody>\n",
       "    <tr>\n",
       "      <th>0</th>\n",
       "      <td>Bromwell High is a cartoon comedy. I expect th...</td>\n",
       "      <td>1</td>\n",
       "    </tr>\n",
       "    <tr>\n",
       "      <th>1</th>\n",
       "      <td>That is Goddard Bolt's lesson.&lt;br /&gt;&lt;br /&gt;Mel ...</td>\n",
       "      <td>1</td>\n",
       "    </tr>\n",
       "    <tr>\n",
       "      <th>2</th>\n",
       "      <td>Brilliant over-acting by Lesley Ann Warren. Be...</td>\n",
       "      <td>1</td>\n",
       "    </tr>\n",
       "    <tr>\n",
       "      <th>3</th>\n",
       "      <td>This is easily the most underrated film inn th...</td>\n",
       "      <td>1</td>\n",
       "    </tr>\n",
       "    <tr>\n",
       "      <th>4</th>\n",
       "      <td>This is not the typical Mel Brooks film. It wa...</td>\n",
       "      <td>1</td>\n",
       "    </tr>\n",
       "  </tbody>\n",
       "</table>\n",
       "</div>"
      ],
      "text/plain": [
       "                                              review  polarity\n",
       "0  Bromwell High is a cartoon comedy. I expect th...         1\n",
       "1  That is Goddard Bolt's lesson.<br /><br />Mel ...         1\n",
       "2  Brilliant over-acting by Lesley Ann Warren. Be...         1\n",
       "3  This is easily the most underrated film inn th...         1\n",
       "4  This is not the typical Mel Brooks film. It wa...         1"
      ]
     },
     "execution_count": 102,
     "metadata": {},
     "output_type": "execute_result"
    }
   ],
   "source": [
    "df_tr_filtered.head()"
   ]
  },
  {
   "cell_type": "code",
   "execution_count": 103,
   "id": "3f21efe4",
   "metadata": {},
   "outputs": [
    {
     "data": {
      "text/plain": [
       "(25000, 2)"
      ]
     },
     "execution_count": 103,
     "metadata": {},
     "output_type": "execute_result"
    }
   ],
   "source": [
    "df_tr_filtered.shape"
   ]
  },
  {
   "cell_type": "markdown",
   "id": "bc5bf4cc",
   "metadata": {},
   "source": [
    "We instantiate a new vectorizer for the sentiment prediction data, and then train the classifier and predict on the test set"
   ]
  },
  {
   "cell_type": "code",
   "execution_count": 104,
   "id": "e4f6c04b",
   "metadata": {},
   "outputs": [],
   "source": [
    "sentiment_vectorizer = CountVectorizer(strip_accents=None, lowercase=True,\n",
    "                                       preprocessor=None, tokenizer=doc_preprocessor,\n",
    "                                       stop_words=None, ngram_range=(1, 1),\n",
    "                                       binary=False)"
   ]
  },
  {
   "cell_type": "code",
   "execution_count": 105,
   "id": "6e1c4cd3",
   "metadata": {},
   "outputs": [],
   "source": [
    "# Vectorizer should take training data only\n",
    "train_vec_polarity = sentiment_vectorizer.fit_transform(df_tr_filtered.review)\n",
    "train_lab_polarity = df_tr_filtered.polarity\n",
    "\n",
    "test_vec_polarity = sentiment_vectorizer.transform(df_te_filtered.review)\n",
    "test_lab_polarity = df_te_filtered.polarity"
   ]
  },
  {
   "cell_type": "code",
   "execution_count": null,
   "id": "d74f10d7",
   "metadata": {},
   "outputs": [],
   "source": [
    "polarity_nb = MultinomialNB()\n",
    "polarity_nb.fit(train_vec_polarity, train_lab_polarity)"
   ]
  },
  {
   "cell_type": "code",
   "execution_count": 107,
   "id": "adb154ab",
   "metadata": {},
   "outputs": [],
   "source": [
    "te_pred_polarity = polarity_nb.predict(test_vec_polarity)"
   ]
  },
  {
   "cell_type": "code",
   "execution_count": 108,
   "id": "9b6f0d85",
   "metadata": {},
   "outputs": [],
   "source": [
    "clf_report = classification_report(test_lab_polarity, te_pred_polarity)"
   ]
  },
  {
   "cell_type": "code",
   "execution_count": 109,
   "id": "3bb7ff7a",
   "metadata": {},
   "outputs": [
    {
     "name": "stdout",
     "output_type": "stream",
     "text": [
      "              precision    recall  f1-score   support\n",
      "\n",
      "           0       0.80      0.87      0.84     12500\n",
      "           1       0.86      0.79      0.82     12500\n",
      "\n",
      "    accuracy                           0.83     25000\n",
      "   macro avg       0.83      0.83      0.83     25000\n",
      "weighted avg       0.83      0.83      0.83     25000\n",
      "\n"
     ]
    }
   ],
   "source": [
    "print(clf_report)"
   ]
  }
 ],
 "metadata": {
  "kernelspec": {
   "display_name": "Python 3",
   "language": "python",
   "name": "python3"
  },
  "language_info": {
   "codemirror_mode": {
    "name": "ipython",
    "version": 3
   },
   "file_extension": ".py",
   "mimetype": "text/x-python",
   "name": "python",
   "nbconvert_exporter": "python",
   "pygments_lexer": "ipython3",
   "version": "3.9.5"
  }
 },
 "nbformat": 4,
 "nbformat_minor": 5
}
