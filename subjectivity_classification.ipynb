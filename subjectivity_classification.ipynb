{
 "cells": [
  {
   "cell_type": "markdown",
   "id": "cac04ec6",
   "metadata": {},
   "source": [
    "# Subjectivity analysis\n",
    "Use [subjective/objective movie review data](https://www.cs.cornell.edu/people/pabo/movie-review-data/) to train a classifier to filter out objective sentences as a preprocessing step to sentiment analysis."
   ]
  },
  {
   "cell_type": "code",
   "execution_count": 1,
   "id": "12208a8f",
   "metadata": {},
   "outputs": [],
   "source": [
    "import pandas as pd\n",
    "import numpy as np\n",
    "from sklearn.feature_extraction.text import CountVectorizer\n",
    "from sklearn.naive_bayes import MultinomialNB"
   ]
  },
  {
   "cell_type": "markdown",
   "id": "14b04b10",
   "metadata": {},
   "source": [
    "## Load and label data\n",
    "The data of reviews are assumed to be subjective, and the plot descriptions are assumed to be objective."
   ]
  },
  {
   "cell_type": "code",
   "execution_count": 21,
   "id": "eddc17ca",
   "metadata": {},
   "outputs": [],
   "source": [
    "subjective_df = pd.read_csv('subjectivity_data/plot.tok.gt9.5000', encoding='ISO-8859-1', #alternatively 'latin-1'\n",
    "                            sep='\\n', header=None, names=['sentence'])\n",
    "objective_df  = pd.read_csv('subjectivity_data/quote.tok.gt9.5000', encoding='ISO-8859-1', #alternatively 'latin-1'\n",
    "                            sep='\\n', header=None, names=['sentence'])\n",
    "subjective_df['label'] = 1\n",
    "objective_df['label'] = 0"
   ]
  },
  {
   "cell_type": "code",
   "execution_count": 25,
   "id": "dcf36185",
   "metadata": {},
   "outputs": [
    {
     "data": {
      "text/html": [
       "<div>\n",
       "<style scoped>\n",
       "    .dataframe tbody tr th:only-of-type {\n",
       "        vertical-align: middle;\n",
       "    }\n",
       "\n",
       "    .dataframe tbody tr th {\n",
       "        vertical-align: top;\n",
       "    }\n",
       "\n",
       "    .dataframe thead th {\n",
       "        text-align: right;\n",
       "    }\n",
       "</style>\n",
       "<table border=\"1\" class=\"dataframe\">\n",
       "  <thead>\n",
       "    <tr style=\"text-align: right;\">\n",
       "      <th></th>\n",
       "      <th>sentence</th>\n",
       "      <th>label</th>\n",
       "    </tr>\n",
       "  </thead>\n",
       "  <tbody>\n",
       "    <tr>\n",
       "      <th>0</th>\n",
       "      <td>smart and alert , thirteen conversations about...</td>\n",
       "      <td>0</td>\n",
       "    </tr>\n",
       "    <tr>\n",
       "      <th>1</th>\n",
       "      <td>color , musical bounce and warm seas lapping o...</td>\n",
       "      <td>0</td>\n",
       "    </tr>\n",
       "    <tr>\n",
       "      <th>2</th>\n",
       "      <td>it is not a mass-market entertainment but an u...</td>\n",
       "      <td>0</td>\n",
       "    </tr>\n",
       "    <tr>\n",
       "      <th>3</th>\n",
       "      <td>a light-hearted french film about the spiritua...</td>\n",
       "      <td>0</td>\n",
       "    </tr>\n",
       "    <tr>\n",
       "      <th>4</th>\n",
       "      <td>my wife is an actress has its moments in looki...</td>\n",
       "      <td>0</td>\n",
       "    </tr>\n",
       "  </tbody>\n",
       "</table>\n",
       "</div>"
      ],
      "text/plain": [
       "                                            sentence  label\n",
       "0  smart and alert , thirteen conversations about...      0\n",
       "1  color , musical bounce and warm seas lapping o...      0\n",
       "2  it is not a mass-market entertainment but an u...      0\n",
       "3  a light-hearted french film about the spiritua...      0\n",
       "4  my wife is an actress has its moments in looki...      0"
      ]
     },
     "execution_count": 25,
     "metadata": {},
     "output_type": "execute_result"
    }
   ],
   "source": [
    "data = pd.concat([objective_df, subjective_df], ignore_index=False)\n",
    "data.head()"
   ]
  },
  {
   "cell_type": "markdown",
   "id": "ed78c2de",
   "metadata": {},
   "source": [
    "Split data into train and test sets"
   ]
  },
  {
   "cell_type": "code",
   "execution_count": 20,
   "id": "d70560f7",
   "metadata": {},
   "outputs": [],
   "source": [
    "from sklearn.model_selection import train_test_split"
   ]
  },
  {
   "cell_type": "code",
   "execution_count": 28,
   "id": "a73f6b6c",
   "metadata": {},
   "outputs": [],
   "source": [
    "train_sentences, test_sentences, train_labels, test_labels = train_test_split(data.sentence, data.label,\n",
    "                                                                              test_size=0.3, random_state=100)"
   ]
  },
  {
   "cell_type": "markdown",
   "id": "7f5e1c74",
   "metadata": {},
   "source": [
    "Use binary vectorizer"
   ]
  },
  {
   "cell_type": "code",
   "execution_count": 31,
   "id": "5b95fe36",
   "metadata": {},
   "outputs": [],
   "source": [
    "bin_vectorizer = CountVectorizer(strip_accents=None, lowercase=True,\n",
    "                                 preprocessor=None, tokenizer=None,\n",
    "                                 stop_words=None, ngram_range=(1, 1),\n",
    "                                 binary=False)"
   ]
  },
  {
   "cell_type": "code",
   "execution_count": 33,
   "id": "b83480b9",
   "metadata": {},
   "outputs": [
    {
     "data": {
      "text/plain": [
       "CountVectorizer()"
      ]
     },
     "execution_count": 33,
     "metadata": {},
     "output_type": "execute_result"
    }
   ],
   "source": [
    "bin_vectorizer.fit(data.sentence)"
   ]
  },
  {
   "cell_type": "code",
   "execution_count": 35,
   "id": "eb0b3912",
   "metadata": {},
   "outputs": [],
   "source": [
    "train_vec = bin_vectorizer.transform(train_sentences)\n",
    "test_vec  = bin_vectorizer.transform(test_sentences)"
   ]
  },
  {
   "cell_type": "markdown",
   "id": "2aef88e4",
   "metadata": {},
   "source": [
    "## Train a naïve Bayes classifier\n",
    "Predict on the test set"
   ]
  },
  {
   "cell_type": "code",
   "execution_count": 38,
   "id": "9b9a9ea6",
   "metadata": {},
   "outputs": [],
   "source": [
    "m_naive_bayes = MultinomialNB()\n",
    "m_naive_bayes.fit(train_vec, train_labels)\n",
    "te_pred = m_naive_bayes.predict(test_vec)"
   ]
  },
  {
   "cell_type": "code",
   "execution_count": 45,
   "id": "75776501",
   "metadata": {},
   "outputs": [],
   "source": [
    "from sklearn.metrics import classification_report"
   ]
  },
  {
   "cell_type": "code",
   "execution_count": 46,
   "id": "b7052bf8",
   "metadata": {},
   "outputs": [],
   "source": [
    "con_mat = classification_report(test_labels, te_pred)"
   ]
  },
  {
   "cell_type": "code",
   "execution_count": 47,
   "id": "11d58c6b",
   "metadata": {},
   "outputs": [
    {
     "name": "stdout",
     "output_type": "stream",
     "text": [
      "              precision    recall  f1-score   support\n",
      "\n",
      "           0       0.90      0.92      0.91      1495\n",
      "           1       0.92      0.90      0.91      1505\n",
      "\n",
      "    accuracy                           0.91      3000\n",
      "   macro avg       0.91      0.91      0.91      3000\n",
      "weighted avg       0.91      0.91      0.91      3000\n",
      "\n"
     ]
    }
   ],
   "source": [
    "print(con_mat)"
   ]
  },
  {
   "cell_type": "markdown",
   "id": "dd847983",
   "metadata": {},
   "source": [
    "OK! Use the predicted labels of the sentences to decide which are subjective and objective respectively. The subjective sentences can be used for polarity prediction."
   ]
  },
  {
   "cell_type": "markdown",
   "id": "aaed5a98",
   "metadata": {},
   "source": [
    "## TODO\n",
    "- function that returns the NB classifier to another notebook\n",
    "- minimum-cut based subjectivity classifier interface"
   ]
  },
  {
   "cell_type": "markdown",
   "id": "f1f8bff3",
   "metadata": {},
   "source": [
    "# Graph-based subjectivity classification\n",
    "Method adopted from [A Sentimental Education: Sentiment Analysis Using Subjectivity Summarization Based on Minimum Cuts by Pang and Lee](https://arxiv.org/abs/cs/0409058). Use proximity information to decide if a sentence should be classified as subjective or objective. Use the naïve Bayes classifier probabilities as weights in a graph and find the minimum cut to separate objective from subjective sentences.\n",
    "\n",
    "The weights from the source to a sentence is the probability of the sentence being objective (0), and from a sentence to the sink the weight is the probability of the sentence being subjective (1).\n",
    "\n",
    "Use the package `networkx` for running the min-cut algorithm [`networkx.algorithms.flow.minimum_cut`](https://networkx.org/documentation/stable/reference/algorithms/generated/networkx.algorithms.flow.minimum_cut.html)."
   ]
  },
  {
   "cell_type": "code",
   "execution_count": 48,
   "id": "48175ae1",
   "metadata": {},
   "outputs": [],
   "source": [
    "prob = m_naive_bayes.predict_proba(test_vec)"
   ]
  },
  {
   "cell_type": "code",
   "execution_count": 53,
   "id": "ccc4c7dd",
   "metadata": {},
   "outputs": [
    {
     "name": "stdout",
     "output_type": "stream",
     "text": [
      "[6.86707273e-01 9.96752600e-01 1.13854921e-05 ... 3.58675235e-04\n",
      " 8.00644210e-11 3.72291732e-02]\n",
      "[1 1 0 ... 0 0 0]\n"
     ]
    }
   ],
   "source": [
    "print(prob)\n",
    "print(te_pred)"
   ]
  },
  {
   "cell_type": "code",
   "execution_count": 54,
   "id": "01ba983d",
   "metadata": {},
   "outputs": [],
   "source": [
    "to_source = prob[:,0] # objective probability\n",
    "to_sink = prob[:,1]   # subjective probability"
   ]
  },
  {
   "cell_type": "markdown",
   "id": "8a778363",
   "metadata": {},
   "source": [
    "Use an associative weight between sentence nodes $assoc(s_i,s_j) = c\\cdot f(j-i) $ for $j-1 \\leq T$ and $0$ otherwise, where $f(d)$ is decreasing. Pang and Lee used $c\\in[0,1]$ with steps of $0.1$, $T\\in\\{1,2,3\\}$, and $f(d)\\in\\{1, e^{1-d}, 1/d^2\\}$."
   ]
  },
  {
   "cell_type": "code",
   "execution_count": 65,
   "id": "a5512af2",
   "metadata": {},
   "outputs": [],
   "source": [
    "def get_assoc_matrix(n_sentences, threshold=3, c=0.5):\n",
    "    \"\"\"\n",
    "    Returns the weight matrix for the nodes\n",
    "    Input:\n",
    "        - n_sentences: the number of sentences in the review\n",
    "        - threshold: the number of sentences that count as being close\n",
    "        - c: weight (for each class) of the associative function\n",
    "    \"\"\"\n",
    "    A = np.zeros((n_sentences,n_sentences))\n",
    "    \n",
    "    for i in range(n_sentences):\n",
    "        for j in range(i+1, n_sentences):\n",
    "            if j-i <= threshold:\n",
    "                d = j-i\n",
    "                A[i,j] = c*np.exp(1-d)\n",
    "                A[j,i] = c*np.exp(1-d)\n",
    "    return A"
   ]
  },
  {
   "cell_type": "code",
   "execution_count": 85,
   "id": "e25d70e5",
   "metadata": {},
   "outputs": [
    {
     "name": "stdout",
     "output_type": "stream",
     "text": [
      "[[0.    0.5   0.184 0.068 0.    0.    0.    0.   ]\n",
      " [0.5   0.    0.5   0.184 0.068 0.    0.    0.   ]\n",
      " [0.184 0.5   0.    0.5   0.184 0.068 0.    0.   ]\n",
      " [0.068 0.184 0.5   0.    0.5   0.184 0.068 0.   ]\n",
      " [0.    0.068 0.184 0.5   0.    0.5   0.184 0.068]\n",
      " [0.    0.    0.068 0.184 0.5   0.    0.5   0.184]\n",
      " [0.    0.    0.    0.068 0.184 0.5   0.    0.5  ]\n",
      " [0.    0.    0.    0.    0.068 0.184 0.5   0.   ]]\n"
     ]
    }
   ],
   "source": [
    "n_sentences = 8\n",
    "A = get_assoc_matrix(n_sentences)\n",
    "if n_sentences < 9:\n",
    "    print(np.around(A,3))"
   ]
  },
  {
   "cell_type": "markdown",
   "id": "1617d519",
   "metadata": {},
   "source": [
    "__N.B. In the example below we use sentences that are _not_ close to each other, and the classification will _not_ be improved here as a result.__"
   ]
  },
  {
   "cell_type": "code",
   "execution_count": 86,
   "id": "d70e11ab",
   "metadata": {},
   "outputs": [],
   "source": [
    "M = np.zeros((n_sentences+2, n_sentences+2))\n",
    "M[1:n_sentences+1, 0] = to_source[0:n_sentences]\n",
    "M[0, 1:n_sentences+1] = to_source[0:n_sentences]\n",
    "\n",
    "M[n_sentences+1, 1:n_sentences+1] = to_sink[0:n_sentences]\n",
    "M[1:n_sentences+1, n_sentences+1] = to_sink[0:n_sentences]\n",
    "\n",
    "M[1:n_sentences+1, 1:n_sentences+1] = A"
   ]
  },
  {
   "cell_type": "code",
   "execution_count": 87,
   "id": "57796ed5",
   "metadata": {},
   "outputs": [
    {
     "name": "stdout",
     "output_type": "stream",
     "text": [
      "[[0.    0.313 0.003 1.    1.    0.973 1.    0.999 1.    0.   ]\n",
      " [0.313 0.    0.5   0.184 0.068 0.    0.    0.    0.    0.687]\n",
      " [0.003 0.5   0.    0.5   0.184 0.068 0.    0.    0.    0.997]\n",
      " [1.    0.184 0.5   0.    0.5   0.184 0.068 0.    0.    0.   ]\n",
      " [1.    0.068 0.184 0.5   0.    0.5   0.184 0.068 0.    0.   ]\n",
      " [0.973 0.    0.068 0.184 0.5   0.    0.5   0.184 0.068 0.027]\n",
      " [1.    0.    0.    0.068 0.184 0.5   0.    0.5   0.184 0.   ]\n",
      " [0.999 0.    0.    0.    0.068 0.184 0.5   0.    0.5   0.001]\n",
      " [1.    0.    0.    0.    0.    0.068 0.184 0.5   0.    0.   ]\n",
      " [0.    0.687 0.997 0.    0.    0.027 0.    0.001 0.    0.   ]]\n"
     ]
    }
   ],
   "source": [
    "print(np.around(M,3))"
   ]
  },
  {
   "cell_type": "code",
   "execution_count": 88,
   "id": "56b441cd",
   "metadata": {},
   "outputs": [],
   "source": [
    "import networkx as nx\n",
    "from networkx.algorithms.flow import minimum_cut\n",
    "G = nx.convert_matrix.from_numpy_matrix(M)"
   ]
  },
  {
   "cell_type": "code",
   "execution_count": 91,
   "id": "06efab9f",
   "metadata": {
    "scrolled": true
   },
   "outputs": [
    {
     "data": {
      "image/png": "[encoded data removed]",
      "text/plain": [
       "<Figure size 432x288 with 1 Axes>"
      ]
     },
     "metadata": {},
     "output_type": "display_data"
    }
   ],
   "source": [
    "nx.draw(G, with_labels=True, font_weight='bold')"
   ]
  },
  {
   "cell_type": "code",
   "execution_count": 102,
   "id": "21d7d55f",
   "metadata": {},
   "outputs": [],
   "source": [
    "cut_value, partition = minimum_cut(flowG = G, _s=0, _t=n_sentences+1, capacity='weight')"
   ]
  },
  {
   "cell_type": "code",
   "execution_count": 104,
   "id": "3cb112b4",
   "metadata": {},
   "outputs": [
    {
     "name": "stdout",
     "output_type": "stream",
     "text": [
      "({0, 3, 4, 5, 6, 7, 8}, {9, 2, 1})\n",
      "[1 1 0 0 0 0]\n"
     ]
    }
   ],
   "source": [
    "print(partition)\n",
    "print(te_pred[0:6])"
   ]
  },
  {
   "cell_type": "markdown",
   "id": "8a1551ac",
   "metadata": {},
   "source": [
    "Sanity check: We disregard the sink and source nodes 0 and 9, and find node 1 and 2 being subjective, and the rest objective, just like we had with the NB classifier. If the emphasis on proximity is increased (e.g. increase $c$ or $T$), the partition might change."
   ]
  }
 ],
 "metadata": {
  "kernelspec": {
   "display_name": "Python 3",
   "language": "python",
   "name": "python3"
  },
  "language_info": {
   "codemirror_mode": {
    "name": "ipython",
    "version": 3
   },
   "file_extension": ".py",
   "mimetype": "text/x-python",
   "name": "python",
   "nbconvert_exporter": "python",
   "pygments_lexer": "ipython3",
   "version": "3.9.5"
  }
 },
 "nbformat": 4,
 "nbformat_minor": 5
}
